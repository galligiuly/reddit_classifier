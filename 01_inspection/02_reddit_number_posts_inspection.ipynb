{
  "nbformat": 4,
  "nbformat_minor": 0,
  "metadata": {
    "colab": {
      "name": "02-reddit_number_posts_inspection.ipynb",
      "provenance": [],
      "collapsed_sections": []
    },
    "kernelspec": {
      "name": "python3",
      "display_name": "Python 3"
    },
    "accelerator": "GPU"
  },
  "cells": [
    {
      "cell_type": "markdown",
      "metadata": {
        "id": "y7JpdZJBH517",
        "colab_type": "text"
      },
      "source": [
        "# Data inspection in BigQuery - posts dataset"
      ]
    },
    {
      "cell_type": "markdown",
      "metadata": {
        "id": "r7h6my9KICIE",
        "colab_type": "text"
      },
      "source": [
        "The data set source is a pubblic collection of 1.7 billion reddit comments and posts loaded on BigQuery in this [link](https://console.cloud.google.com/bigquery?p=fh-bigquery%2F&project=reddit-master&folder&organizationId)"
      ]
    },
    {
      "cell_type": "markdown",
      "metadata": {
        "id": "ELEmkN6aIF7w",
        "colab_type": "text"
      },
      "source": [
        "# Posts statistic"
      ]
    },
    {
      "cell_type": "markdown",
      "metadata": {
        "id": "sZXVikHJ6eIm",
        "colab_type": "text"
      },
      "source": [
        "Here below the steps followed that guided me to my conclusions of which subreddits I selected through posts_ds."
      ]
    },
    {
      "cell_type": "code",
      "metadata": {
        "id": "cnvajZlSH3xw",
        "colab_type": "code",
        "outputId": "9404abca-fe3f-456e-b4f4-6e30b1c500d0",
        "colab": {
          "base_uri": "https://localhost:8080/",
          "height": 34
        }
      },
      "source": [
        "from google.colab import auth\n",
        "auth.authenticate_user()\n",
        "print('Authenticated')"
      ],
      "execution_count": 0,
      "outputs": [
        {
          "output_type": "stream",
          "text": [
            "Authenticated\n"
          ],
          "name": "stdout"
        }
      ]
    },
    {
      "cell_type": "code",
      "metadata": {
        "id": "kp4Pzd0jIb2c",
        "colab_type": "code",
        "outputId": "6a0b39bc-c4de-4bbd-c9b4-f6aaf4ef8bcc",
        "colab": {
          "base_uri": "https://localhost:8080/",
          "height": 34
        }
      },
      "source": [
        "%env GCLOUD_PROJECT=reddit-master"
      ],
      "execution_count": 0,
      "outputs": [
        {
          "output_type": "stream",
          "text": [
            "env: GCLOUD_PROJECT=reddit-master\n"
          ],
          "name": "stdout"
        }
      ]
    },
    {
      "cell_type": "markdown",
      "metadata": {
        "id": "m-v9iSaR7EvW",
        "colab_type": "text"
      },
      "source": [
        "## Global analysis"
      ]
    },
    {
      "cell_type": "markdown",
      "metadata": {
        "id": "QpoOGodGSe0k",
        "colab_type": "text"
      },
      "source": [
        "Before starting my analysis I what to do some study about the lenght of  `titles` and `self` text considering that:\n",
        "\n",
        "*   ```selftext``` can contain empty and null data\n",
        "*   ```selftext``` can be deleted and removed\n",
        "*   ```title``` with a length too short (not representative for my analysis)"
      ]
    },
    {
      "cell_type": "markdown",
      "metadata": {
        "id": "69u04fmTNhM0",
        "colab_type": "text"
      },
      "source": [
        "With a small query we can see that this kind of \"invalid\" data is huge and worth cleaning the data (below a sample in a specific month):"
      ]
    },
    {
      "cell_type": "code",
      "metadata": {
        "id": "J3AQy6X5OU67",
        "colab_type": "code",
        "outputId": "3d82d226-4536-4a1d-f19b-5d5a67637750",
        "colab": {
          "base_uri": "https://localhost:8080/",
          "height": 419
        }
      },
      "source": [
        "%%bigquery --project reddit-master\n",
        "SELECT\n",
        "  COUNT(selftext) AS selftext_not_valid,\n",
        "  subreddit,\n",
        "  selftext,\n",
        "  title\n",
        "FROM\n",
        "  `fh-bigquery.reddit_posts.2018_11`\n",
        "WHERE\n",
        "  (selftext = '[deleted]' AND length(title) < 20)\n",
        "  OR (selftext = '[removed]' AND length(title) < 20)\n",
        "  OR (selftext = '[ Removed by reddit in response to a copyright notice. ]' AND length(title) < 20)\n",
        "  OR (selftext = 'NaN' AND length(title) < 20)\n",
        "  OR (selftext = '' AND length(title) < 20)\n",
        "group by 2, 3, 4"
      ],
      "execution_count": 0,
      "outputs": [
        {
          "output_type": "execute_result",
          "data": {
            "text/html": [
              "<div>\n",
              "<style scoped>\n",
              "    .dataframe tbody tr th:only-of-type {\n",
              "        vertical-align: middle;\n",
              "    }\n",
              "\n",
              "    .dataframe tbody tr th {\n",
              "        vertical-align: top;\n",
              "    }\n",
              "\n",
              "    .dataframe thead th {\n",
              "        text-align: right;\n",
              "    }\n",
              "</style>\n",
              "<table border=\"1\" class=\"dataframe\">\n",
              "  <thead>\n",
              "    <tr style=\"text-align: right;\">\n",
              "      <th></th>\n",
              "      <th>selftext_not_valid</th>\n",
              "      <th>subreddit</th>\n",
              "      <th>selftext</th>\n",
              "      <th>title</th>\n",
              "    </tr>\n",
              "  </thead>\n",
              "  <tbody>\n",
              "    <tr>\n",
              "      <th>0</th>\n",
              "      <td>1</td>\n",
              "      <td>CassieV</td>\n",
              "      <td>[ Removed by reddit in response to a copyright...</td>\n",
              "      <td>��</td>\n",
              "    </tr>\n",
              "    <tr>\n",
              "      <th>1</th>\n",
              "      <td>1</td>\n",
              "      <td>Cricket</td>\n",
              "      <td>[ Removed by reddit in response to a copyright...</td>\n",
              "      <td>JINX CAN BOWL TOO!</td>\n",
              "    </tr>\n",
              "    <tr>\n",
              "      <th>2</th>\n",
              "      <td>3</td>\n",
              "      <td>goddesses</td>\n",
              "      <td>[ Removed by reddit in response to a copyright...</td>\n",
              "      <td>Allison Parker</td>\n",
              "    </tr>\n",
              "    <tr>\n",
              "      <th>3</th>\n",
              "      <td>1</td>\n",
              "      <td>de</td>\n",
              "      <td></td>\n",
              "      <td>Hallo! Wie meinen?</td>\n",
              "    </tr>\n",
              "    <tr>\n",
              "      <th>4</th>\n",
              "      <td>1</td>\n",
              "      <td>de</td>\n",
              "      <td></td>\n",
              "      <td>Volvo &amp;gt; Audi</td>\n",
              "    </tr>\n",
              "    <tr>\n",
              "      <th>...</th>\n",
              "      <td>...</td>\n",
              "      <td>...</td>\n",
              "      <td>...</td>\n",
              "      <td>...</td>\n",
              "    </tr>\n",
              "    <tr>\n",
              "      <th>1439482</th>\n",
              "      <td>2</td>\n",
              "      <td>u_Dunghoanggia</td>\n",
              "      <td>[removed]</td>\n",
              "      <td>Bongkhoangrockwool</td>\n",
              "    </tr>\n",
              "    <tr>\n",
              "      <th>1439483</th>\n",
              "      <td>1</td>\n",
              "      <td>MrNeal</td>\n",
              "      <td>[removed]</td>\n",
              "      <td>Thoughts</td>\n",
              "    </tr>\n",
              "    <tr>\n",
              "      <th>1439484</th>\n",
              "      <td>1</td>\n",
              "      <td>u_kiminayuuki</td>\n",
              "      <td>[removed]</td>\n",
              "      <td>Fortnite stream</td>\n",
              "    </tr>\n",
              "    <tr>\n",
              "      <th>1439485</th>\n",
              "      <td>1</td>\n",
              "      <td>u_JayJoinOurStory</td>\n",
              "      <td>[removed]</td>\n",
              "      <td>New to me</td>\n",
              "    </tr>\n",
              "    <tr>\n",
              "      <th>1439486</th>\n",
              "      <td>1</td>\n",
              "      <td>u_tm-nieuws</td>\n",
              "      <td>[removed]</td>\n",
              "      <td>tm nieuws</td>\n",
              "    </tr>\n",
              "  </tbody>\n",
              "</table>\n",
              "<p>1439487 rows × 4 columns</p>\n",
              "</div>"
            ],
            "text/plain": [
              "         selftext_not_valid  ...               title\n",
              "0                         1  ...                  ��\n",
              "1                         1  ...  JINX CAN BOWL TOO!\n",
              "2                         3  ...      Allison Parker\n",
              "3                         1  ...  Hallo! Wie meinen?\n",
              "4                         1  ...     Volvo &gt; Audi\n",
              "...                     ...  ...                 ...\n",
              "1439482                   2  ...  Bongkhoangrockwool\n",
              "1439483                   1  ...            Thoughts\n",
              "1439484                   1  ...     Fortnite stream\n",
              "1439485                   1  ...           New to me\n",
              "1439486                   1  ...           tm nieuws\n",
              "\n",
              "[1439487 rows x 4 columns]"
            ]
          },
          "metadata": {
            "tags": []
          },
          "execution_count": 4
        }
      ]
    },
    {
      "cell_type": "markdown",
      "metadata": {
        "id": "vCaaFd5zOVQf",
        "colab_type": "text"
      },
      "source": [
        "From now, the data will be selected and clean with the follow critera:\n",
        "\n",
        "```\n",
        "  (selftext != '[deleted]' AND length(title) > 20)\n",
        "  AND (selftext != '[removed]' AND length(title) > 20)\n",
        "  AND (selftext != '[ Removed by reddit in response to a copyright notice. ]'     AND length(title) > 20)\n",
        "  AND (selftext != 'NaN' AND length(title) > 20)\n",
        "  AND (selftext != '' AND length(title) > 20)\n",
        "```"
      ]
    },
    {
      "cell_type": "markdown",
      "metadata": {
        "id": "wn_0ULzGtPCX",
        "colab_type": "text"
      },
      "source": [
        "In this case, I've decided to keep some \"invalid\" data in textself where the length of the title is more that 20 char. This because in this table we will consider two text sources and one can cover the information gap of the other."
      ]
    },
    {
      "cell_type": "markdown",
      "metadata": {
        "id": "vFaQDtM5FpB0",
        "colab_type": "text"
      },
      "source": [
        "Let's aplly more filters to my data for best select the information:\n"
      ]
    },
    {
      "cell_type": "markdown",
      "metadata": {
        "id": "nKms4dyEIqXb",
        "colab_type": "text"
      },
      "source": [
        "*   subreddit\n",
        "*   author\n",
        "*   count of title\n",
        "*   count of selftext\n",
        "*   average of number of comments per post\n",
        "*   posts per author\n",
        "*   score\n",
        "*   year\n",
        "*   month"
      ]
    },
    {
      "cell_type": "markdown",
      "metadata": {
        "id": "jnIfJJCuZS8W",
        "colab_type": "text"
      },
      "source": [
        "Some important point:\n",
        "\n",
        "*   ```num_comments```is an important information, the average can give an idea of the post most commented (and indirectually most popular)\n",
        "*   ```posts_per_authors``` is an information that gives the number of post published per author\n",
        "\n",
        "This last calculated field is the one I decided to use for filter the query ( ```posts_per_authors``` < 10) because gives us popularity information (number of unique authors that wirte a post) along with number of posts __excluding exorbitant numbers of posts done in both__.\n",
        "\n"
      ]
    },
    {
      "cell_type": "markdown",
      "metadata": {
        "id": "nLgqK1vuLcQH",
        "colab_type": "text"
      },
      "source": [
        "For example, `AskReddit` or `politics` are subreddit really famouse and the number of comments per authors are a realistic number. "
      ]
    },
    {
      "cell_type": "code",
      "metadata": {
        "id": "QGLOgtuVLcj1",
        "colab_type": "code",
        "outputId": "832cfcac-0276-4b43-fc8c-b686c27ab6b7",
        "colab": {
          "base_uri": "https://localhost:8080/",
          "height": 793
        }
      },
      "source": [
        "%%bigquery --project reddit-master\n",
        "WITH\n",
        "  q1 AS(\n",
        "  SELECT\n",
        "    subreddit,\n",
        "    author,\n",
        "    title,\n",
        "    selftext,\n",
        "    num_comments,\n",
        "    score,\n",
        "    created_utc\n",
        "  FROM\n",
        "    `fh-bigquery.reddit_posts.2018*`),\n",
        "  q2 AS (\n",
        "  SELECT\n",
        "    DISTINCT(subreddit) uniq_subreddit,\n",
        "    COUNT(DISTINCT(author)) AS num_uniq_authors,\n",
        "    COUNT(title) AS number_titles,\n",
        "    ROUND(AVG(num_comments),2) AS avg_comments_in_post,\n",
        "    ROUND((COUNT(title) / COUNT(DISTINCT(author))),2) AS posts_per_author,\n",
        "    EXTRACT(YEAR\n",
        "    FROM\n",
        "      TIMESTAMP_SECONDS(created_utc)) year,\n",
        "    EXTRACT(month\n",
        "    FROM\n",
        "      TIMESTAMP_SECONDS(created_utc)) month\n",
        "  FROM\n",
        "    q1\n",
        "  GROUP BY\n",
        "    1,\n",
        "    6,\n",
        "    7\n",
        "  ORDER BY\n",
        "    number_titles DESC)\n",
        "SELECT\n",
        "  uniq_subreddit,\n",
        "  num_uniq_authors,\n",
        "  number_titles,\n",
        "  avg_comments_in_post,\n",
        "  posts_per_author,\n",
        "  year,\n",
        "  month\n",
        "FROM\n",
        "  q2\n",
        "WHERE\n",
        "  uniq_subreddit in ('AskReddit', 'politics')\n",
        "ORDER BY\n",
        "  number_titles DESC"
      ],
      "execution_count": 0,
      "outputs": [
        {
          "output_type": "execute_result",
          "data": {
            "text/html": [
              "<div>\n",
              "<style scoped>\n",
              "    .dataframe tbody tr th:only-of-type {\n",
              "        vertical-align: middle;\n",
              "    }\n",
              "\n",
              "    .dataframe tbody tr th {\n",
              "        vertical-align: top;\n",
              "    }\n",
              "\n",
              "    .dataframe thead th {\n",
              "        text-align: right;\n",
              "    }\n",
              "</style>\n",
              "<table border=\"1\" class=\"dataframe\">\n",
              "  <thead>\n",
              "    <tr style=\"text-align: right;\">\n",
              "      <th></th>\n",
              "      <th>uniq_subreddit</th>\n",
              "      <th>num_uniq_authors</th>\n",
              "      <th>number_titles</th>\n",
              "      <th>avg_comments_in_post</th>\n",
              "      <th>posts_per_author</th>\n",
              "      <th>year</th>\n",
              "      <th>month</th>\n",
              "    </tr>\n",
              "  </thead>\n",
              "  <tbody>\n",
              "    <tr>\n",
              "      <th>0</th>\n",
              "      <td>AskReddit</td>\n",
              "      <td>101172</td>\n",
              "      <td>303782</td>\n",
              "      <td>18.82</td>\n",
              "      <td>3.00</td>\n",
              "      <td>2018</td>\n",
              "      <td>12</td>\n",
              "    </tr>\n",
              "    <tr>\n",
              "      <th>1</th>\n",
              "      <td>AskReddit</td>\n",
              "      <td>90567</td>\n",
              "      <td>273330</td>\n",
              "      <td>19.42</td>\n",
              "      <td>3.02</td>\n",
              "      <td>2018</td>\n",
              "      <td>11</td>\n",
              "    </tr>\n",
              "    <tr>\n",
              "      <th>2</th>\n",
              "      <td>AskReddit</td>\n",
              "      <td>91971</td>\n",
              "      <td>268330</td>\n",
              "      <td>20.68</td>\n",
              "      <td>2.92</td>\n",
              "      <td>2018</td>\n",
              "      <td>10</td>\n",
              "    </tr>\n",
              "    <tr>\n",
              "      <th>3</th>\n",
              "      <td>AskReddit</td>\n",
              "      <td>82818</td>\n",
              "      <td>249696</td>\n",
              "      <td>21.45</td>\n",
              "      <td>3.01</td>\n",
              "      <td>2018</td>\n",
              "      <td>7</td>\n",
              "    </tr>\n",
              "    <tr>\n",
              "      <th>4</th>\n",
              "      <td>AskReddit</td>\n",
              "      <td>85349</td>\n",
              "      <td>248169</td>\n",
              "      <td>22.20</td>\n",
              "      <td>2.91</td>\n",
              "      <td>2018</td>\n",
              "      <td>8</td>\n",
              "    </tr>\n",
              "    <tr>\n",
              "      <th>5</th>\n",
              "      <td>AskReddit</td>\n",
              "      <td>81699</td>\n",
              "      <td>243767</td>\n",
              "      <td>21.49</td>\n",
              "      <td>2.98</td>\n",
              "      <td>2018</td>\n",
              "      <td>5</td>\n",
              "    </tr>\n",
              "    <tr>\n",
              "      <th>6</th>\n",
              "      <td>AskReddit</td>\n",
              "      <td>83782</td>\n",
              "      <td>241637</td>\n",
              "      <td>20.41</td>\n",
              "      <td>2.88</td>\n",
              "      <td>2018</td>\n",
              "      <td>1</td>\n",
              "    </tr>\n",
              "    <tr>\n",
              "      <th>7</th>\n",
              "      <td>AskReddit</td>\n",
              "      <td>77874</td>\n",
              "      <td>240232</td>\n",
              "      <td>20.79</td>\n",
              "      <td>3.08</td>\n",
              "      <td>2018</td>\n",
              "      <td>4</td>\n",
              "    </tr>\n",
              "    <tr>\n",
              "      <th>8</th>\n",
              "      <td>AskReddit</td>\n",
              "      <td>83667</td>\n",
              "      <td>239690</td>\n",
              "      <td>20.75</td>\n",
              "      <td>2.86</td>\n",
              "      <td>2018</td>\n",
              "      <td>3</td>\n",
              "    </tr>\n",
              "    <tr>\n",
              "      <th>9</th>\n",
              "      <td>AskReddit</td>\n",
              "      <td>81748</td>\n",
              "      <td>235608</td>\n",
              "      <td>21.13</td>\n",
              "      <td>2.88</td>\n",
              "      <td>2018</td>\n",
              "      <td>9</td>\n",
              "    </tr>\n",
              "    <tr>\n",
              "      <th>10</th>\n",
              "      <td>AskReddit</td>\n",
              "      <td>77015</td>\n",
              "      <td>233874</td>\n",
              "      <td>21.54</td>\n",
              "      <td>3.04</td>\n",
              "      <td>2018</td>\n",
              "      <td>6</td>\n",
              "    </tr>\n",
              "    <tr>\n",
              "      <th>11</th>\n",
              "      <td>AskReddit</td>\n",
              "      <td>78325</td>\n",
              "      <td>226015</td>\n",
              "      <td>20.48</td>\n",
              "      <td>2.89</td>\n",
              "      <td>2018</td>\n",
              "      <td>2</td>\n",
              "    </tr>\n",
              "    <tr>\n",
              "      <th>12</th>\n",
              "      <td>politics</td>\n",
              "      <td>7296</td>\n",
              "      <td>39042</td>\n",
              "      <td>47.67</td>\n",
              "      <td>5.35</td>\n",
              "      <td>2018</td>\n",
              "      <td>3</td>\n",
              "    </tr>\n",
              "    <tr>\n",
              "      <th>13</th>\n",
              "      <td>politics</td>\n",
              "      <td>7081</td>\n",
              "      <td>38662</td>\n",
              "      <td>45.08</td>\n",
              "      <td>5.46</td>\n",
              "      <td>2018</td>\n",
              "      <td>1</td>\n",
              "    </tr>\n",
              "    <tr>\n",
              "      <th>14</th>\n",
              "      <td>politics</td>\n",
              "      <td>6803</td>\n",
              "      <td>36976</td>\n",
              "      <td>56.38</td>\n",
              "      <td>5.44</td>\n",
              "      <td>2018</td>\n",
              "      <td>10</td>\n",
              "    </tr>\n",
              "    <tr>\n",
              "      <th>15</th>\n",
              "      <td>politics</td>\n",
              "      <td>7352</td>\n",
              "      <td>36432</td>\n",
              "      <td>57.97</td>\n",
              "      <td>4.96</td>\n",
              "      <td>2018</td>\n",
              "      <td>11</td>\n",
              "    </tr>\n",
              "    <tr>\n",
              "      <th>16</th>\n",
              "      <td>politics</td>\n",
              "      <td>6039</td>\n",
              "      <td>35920</td>\n",
              "      <td>51.99</td>\n",
              "      <td>5.95</td>\n",
              "      <td>2018</td>\n",
              "      <td>8</td>\n",
              "    </tr>\n",
              "    <tr>\n",
              "      <th>17</th>\n",
              "      <td>politics</td>\n",
              "      <td>6197</td>\n",
              "      <td>35720</td>\n",
              "      <td>54.18</td>\n",
              "      <td>5.76</td>\n",
              "      <td>2018</td>\n",
              "      <td>7</td>\n",
              "    </tr>\n",
              "    <tr>\n",
              "      <th>18</th>\n",
              "      <td>politics</td>\n",
              "      <td>6416</td>\n",
              "      <td>34745</td>\n",
              "      <td>55.12</td>\n",
              "      <td>5.42</td>\n",
              "      <td>2018</td>\n",
              "      <td>6</td>\n",
              "    </tr>\n",
              "    <tr>\n",
              "      <th>19</th>\n",
              "      <td>politics</td>\n",
              "      <td>6062</td>\n",
              "      <td>34534</td>\n",
              "      <td>47.69</td>\n",
              "      <td>5.70</td>\n",
              "      <td>2018</td>\n",
              "      <td>4</td>\n",
              "    </tr>\n",
              "    <tr>\n",
              "      <th>20</th>\n",
              "      <td>politics</td>\n",
              "      <td>6603</td>\n",
              "      <td>34368</td>\n",
              "      <td>49.27</td>\n",
              "      <td>5.20</td>\n",
              "      <td>2018</td>\n",
              "      <td>2</td>\n",
              "    </tr>\n",
              "    <tr>\n",
              "      <th>21</th>\n",
              "      <td>politics</td>\n",
              "      <td>5926</td>\n",
              "      <td>33357</td>\n",
              "      <td>63.87</td>\n",
              "      <td>5.63</td>\n",
              "      <td>2018</td>\n",
              "      <td>9</td>\n",
              "    </tr>\n",
              "    <tr>\n",
              "      <th>22</th>\n",
              "      <td>politics</td>\n",
              "      <td>5569</td>\n",
              "      <td>32152</td>\n",
              "      <td>50.87</td>\n",
              "      <td>5.77</td>\n",
              "      <td>2018</td>\n",
              "      <td>5</td>\n",
              "    </tr>\n",
              "    <tr>\n",
              "      <th>23</th>\n",
              "      <td>politics</td>\n",
              "      <td>5557</td>\n",
              "      <td>29523</td>\n",
              "      <td>59.74</td>\n",
              "      <td>5.31</td>\n",
              "      <td>2018</td>\n",
              "      <td>12</td>\n",
              "    </tr>\n",
              "  </tbody>\n",
              "</table>\n",
              "</div>"
            ],
            "text/plain": [
              "   uniq_subreddit  num_uniq_authors  ...  year  month\n",
              "0       AskReddit            101172  ...  2018     12\n",
              "1       AskReddit             90567  ...  2018     11\n",
              "2       AskReddit             91971  ...  2018     10\n",
              "3       AskReddit             82818  ...  2018      7\n",
              "4       AskReddit             85349  ...  2018      8\n",
              "5       AskReddit             81699  ...  2018      5\n",
              "6       AskReddit             83782  ...  2018      1\n",
              "7       AskReddit             77874  ...  2018      4\n",
              "8       AskReddit             83667  ...  2018      3\n",
              "9       AskReddit             81748  ...  2018      9\n",
              "10      AskReddit             77015  ...  2018      6\n",
              "11      AskReddit             78325  ...  2018      2\n",
              "12       politics              7296  ...  2018      3\n",
              "13       politics              7081  ...  2018      1\n",
              "14       politics              6803  ...  2018     10\n",
              "15       politics              7352  ...  2018     11\n",
              "16       politics              6039  ...  2018      8\n",
              "17       politics              6197  ...  2018      7\n",
              "18       politics              6416  ...  2018      6\n",
              "19       politics              6062  ...  2018      4\n",
              "20       politics              6603  ...  2018      2\n",
              "21       politics              5926  ...  2018      9\n",
              "22       politics              5569  ...  2018      5\n",
              "23       politics              5557  ...  2018     12\n",
              "\n",
              "[24 rows x 7 columns]"
            ]
          },
          "metadata": {
            "tags": []
          },
          "execution_count": 4
        }
      ]
    },
    {
      "cell_type": "markdown",
      "metadata": {
        "id": "f80nsoWPLzfW",
        "colab_type": "text"
      },
      "source": [
        "We can not say the same about `kfq` in mach 2019"
      ]
    },
    {
      "cell_type": "code",
      "metadata": {
        "id": "QjbgMnMBLzx1",
        "colab_type": "code",
        "outputId": "e6a80084-5ec2-44f2-ea5d-9407238aded3",
        "colab": {
          "base_uri": "https://localhost:8080/",
          "height": 80
        }
      },
      "source": [
        "%%bigquery --project reddit-master\n",
        "WITH\n",
        "  q1 AS(\n",
        "  SELECT\n",
        "    subreddit,\n",
        "    author,\n",
        "    title,\n",
        "    selftext,\n",
        "    num_comments,\n",
        "    score,\n",
        "    created_utc\n",
        "  FROM\n",
        "    `fh-bigquery.reddit_posts.2019*`),\n",
        "  q2 AS (\n",
        "  SELECT\n",
        "    DISTINCT(subreddit) uniq_subreddit,\n",
        "    COUNT(DISTINCT(author)) AS num_uniq_authors,\n",
        "    COUNT(title) AS number_titles,\n",
        "    ROUND(AVG(num_comments),2) AS avg_comments_in_post,\n",
        "    ROUND((COUNT(title) / COUNT(DISTINCT(author))),2) AS posts_per_author,\n",
        "    EXTRACT(YEAR\n",
        "    FROM\n",
        "      TIMESTAMP_SECONDS(created_utc)) year,\n",
        "    EXTRACT(month\n",
        "    FROM\n",
        "      TIMESTAMP_SECONDS(created_utc)) month\n",
        "  FROM\n",
        "    q1\n",
        "  GROUP BY\n",
        "    1,\n",
        "    6,\n",
        "    7\n",
        "  ORDER BY\n",
        "    number_titles DESC)\n",
        "SELECT\n",
        "  uniq_subreddit,\n",
        "  num_uniq_authors,\n",
        "  number_titles,\n",
        "  avg_comments_in_post,\n",
        "  posts_per_author,\n",
        "  year,\n",
        "  month\n",
        "FROM\n",
        "  q2\n",
        "WHERE\n",
        "  uniq_subreddit in ('kfq')\n",
        "  AND month = 3\n",
        "ORDER BY\n",
        "  number_titles DESC"
      ],
      "execution_count": 0,
      "outputs": [
        {
          "output_type": "execute_result",
          "data": {
            "text/html": [
              "<div>\n",
              "<style scoped>\n",
              "    .dataframe tbody tr th:only-of-type {\n",
              "        vertical-align: middle;\n",
              "    }\n",
              "\n",
              "    .dataframe tbody tr th {\n",
              "        vertical-align: top;\n",
              "    }\n",
              "\n",
              "    .dataframe thead th {\n",
              "        text-align: right;\n",
              "    }\n",
              "</style>\n",
              "<table border=\"1\" class=\"dataframe\">\n",
              "  <thead>\n",
              "    <tr style=\"text-align: right;\">\n",
              "      <th></th>\n",
              "      <th>uniq_subreddit</th>\n",
              "      <th>num_uniq_authors</th>\n",
              "      <th>number_titles</th>\n",
              "      <th>avg_comments_in_post</th>\n",
              "      <th>posts_per_author</th>\n",
              "      <th>year</th>\n",
              "      <th>month</th>\n",
              "    </tr>\n",
              "  </thead>\n",
              "  <tbody>\n",
              "    <tr>\n",
              "      <th>0</th>\n",
              "      <td>kfq</td>\n",
              "      <td>6</td>\n",
              "      <td>94664</td>\n",
              "      <td>21.06</td>\n",
              "      <td>15777.33</td>\n",
              "      <td>2019</td>\n",
              "      <td>3</td>\n",
              "    </tr>\n",
              "  </tbody>\n",
              "</table>\n",
              "</div>"
            ],
            "text/plain": [
              "  uniq_subreddit  num_uniq_authors  ...  year  month\n",
              "0            kfq                 6  ...  2019      3\n",
              "\n",
              "[1 rows x 7 columns]"
            ]
          },
          "metadata": {
            "tags": []
          },
          "execution_count": 3
        }
      ]
    },
    {
      "cell_type": "markdown",
      "metadata": {
        "id": "CGIpsw_mLa8I",
        "colab_type": "text"
      },
      "source": [
        "Finally, as post table has times less dimention compared with the comments table, I've decided to reduce the limits of the length in `title` and `selftext` respectively in mayor than 10 and 15, to best represent the data necessary for my model and, in posts per comments, upper than 10 considering it as a inicator of popularity."
      ]
    },
    {
      "cell_type": "code",
      "metadata": {
        "id": "xcLblSg9jyYw",
        "colab_type": "code",
        "outputId": "b4912598-6883-413a-ebf7-84882f1f0376",
        "colab": {
          "base_uri": "https://localhost:8080/",
          "height": 419
        }
      },
      "source": [
        "%%bigquery --project reddit-master\n",
        "WITH\n",
        "  q1 AS(\n",
        "  SELECT\n",
        "    subreddit,\n",
        "    author,\n",
        "    title,\n",
        "    selftext,\n",
        "    num_comments,\n",
        "    score,\n",
        "    created_utc\n",
        "  FROM\n",
        "    `fh-bigquery.reddit_posts.2018_*`\n",
        "  WHERE\n",
        "    LENGTH(title) > 10\n",
        "    AND LENGTH(selftext) > 15\n",
        "      AND (selftext != '[deleted]' AND length(title) > 15)\n",
        "      AND (selftext != '[removed]' AND length(title) > 15)\n",
        "      AND (selftext != '[ Removed by reddit in response to a copyright notice. ]' AND length(title) > 15)\n",
        "      AND (selftext != 'NaN' AND length(title) > 15)\n",
        "      AND (selftext != '' AND length(title) > 15)),\n",
        "  q2 AS (\n",
        "  SELECT\n",
        "    DISTINCT(subreddit) uniq_subreddit,\n",
        "    COUNT(DISTINCT(author)) AS num_uniq_authors,\n",
        "    COUNT(title) AS number_titles, --selftext is not consider because give me the same result as title\n",
        "    ROUND(AVG(num_comments),2) AS avg_comments_in_post,\n",
        "    ROUND((COUNT(title) / COUNT(DISTINCT(author))),2) AS posts_per_author,\n",
        "    ROUND(AVG(score), 2) AS avg_score,\n",
        "    EXTRACT(YEAR\n",
        "    FROM\n",
        "      TIMESTAMP_SECONDS(created_utc)) year,\n",
        "    EXTRACT(month\n",
        "    FROM\n",
        "      TIMESTAMP_SECONDS(created_utc)) month\n",
        "  FROM\n",
        "    q1\n",
        "  GROUP BY\n",
        "    1,\n",
        "    7,\n",
        "    8\n",
        "  ORDER BY\n",
        "    number_titles DESC)\n",
        "SELECT\n",
        "  uniq_subreddit,\n",
        "  num_uniq_authors,\n",
        "  number_titles,\n",
        "  avg_comments_in_post,\n",
        "  posts_per_author,\n",
        "  avg_score,\n",
        "  year,\n",
        "  month\n",
        "FROM\n",
        "  q2\n",
        "WHERE\n",
        "  posts_per_author < 10\n",
        "  AND avg_comments_in_post > 30\n",
        "ORDER BY\n",
        "  number_titles DESC\n"
      ],
      "execution_count": 0,
      "outputs": [
        {
          "output_type": "execute_result",
          "data": {
            "text/html": [
              "<div>\n",
              "<style scoped>\n",
              "    .dataframe tbody tr th:only-of-type {\n",
              "        vertical-align: middle;\n",
              "    }\n",
              "\n",
              "    .dataframe tbody tr th {\n",
              "        vertical-align: top;\n",
              "    }\n",
              "\n",
              "    .dataframe thead th {\n",
              "        text-align: right;\n",
              "    }\n",
              "</style>\n",
              "<table border=\"1\" class=\"dataframe\">\n",
              "  <thead>\n",
              "    <tr style=\"text-align: right;\">\n",
              "      <th></th>\n",
              "      <th>uniq_subreddit</th>\n",
              "      <th>num_uniq_authors</th>\n",
              "      <th>number_titles</th>\n",
              "      <th>avg_comments_in_post</th>\n",
              "      <th>posts_per_author</th>\n",
              "      <th>avg_score</th>\n",
              "      <th>year</th>\n",
              "      <th>month</th>\n",
              "    </tr>\n",
              "  </thead>\n",
              "  <tbody>\n",
              "    <tr>\n",
              "      <th>0</th>\n",
              "      <td>CryptoCurrency</td>\n",
              "      <td>7502</td>\n",
              "      <td>11263</td>\n",
              "      <td>39.21</td>\n",
              "      <td>1.50</td>\n",
              "      <td>49.56</td>\n",
              "      <td>2018</td>\n",
              "      <td>1</td>\n",
              "    </tr>\n",
              "    <tr>\n",
              "      <th>1</th>\n",
              "      <td>leagueoflegends</td>\n",
              "      <td>8039</td>\n",
              "      <td>10962</td>\n",
              "      <td>30.59</td>\n",
              "      <td>1.36</td>\n",
              "      <td>99.31</td>\n",
              "      <td>2018</td>\n",
              "      <td>1</td>\n",
              "    </tr>\n",
              "    <tr>\n",
              "      <th>2</th>\n",
              "      <td>DestinyTheGame</td>\n",
              "      <td>6163</td>\n",
              "      <td>10738</td>\n",
              "      <td>31.52</td>\n",
              "      <td>1.74</td>\n",
              "      <td>94.69</td>\n",
              "      <td>2018</td>\n",
              "      <td>5</td>\n",
              "    </tr>\n",
              "    <tr>\n",
              "      <th>3</th>\n",
              "      <td>leagueoflegends</td>\n",
              "      <td>7681</td>\n",
              "      <td>10480</td>\n",
              "      <td>35.87</td>\n",
              "      <td>1.36</td>\n",
              "      <td>106.80</td>\n",
              "      <td>2018</td>\n",
              "      <td>3</td>\n",
              "    </tr>\n",
              "    <tr>\n",
              "      <th>4</th>\n",
              "      <td>leagueoflegends</td>\n",
              "      <td>7117</td>\n",
              "      <td>10113</td>\n",
              "      <td>31.98</td>\n",
              "      <td>1.42</td>\n",
              "      <td>89.77</td>\n",
              "      <td>2018</td>\n",
              "      <td>6</td>\n",
              "    </tr>\n",
              "    <tr>\n",
              "      <th>...</th>\n",
              "      <td>...</td>\n",
              "      <td>...</td>\n",
              "      <td>...</td>\n",
              "      <td>...</td>\n",
              "      <td>...</td>\n",
              "      <td>...</td>\n",
              "      <td>...</td>\n",
              "      <td>...</td>\n",
              "    </tr>\n",
              "    <tr>\n",
              "      <th>12437</th>\n",
              "      <td>HailCorporateDrama</td>\n",
              "      <td>1</td>\n",
              "      <td>1</td>\n",
              "      <td>59.00</td>\n",
              "      <td>1.00</td>\n",
              "      <td>24.00</td>\n",
              "      <td>2018</td>\n",
              "      <td>7</td>\n",
              "    </tr>\n",
              "    <tr>\n",
              "      <th>12438</th>\n",
              "      <td>furry_irl</td>\n",
              "      <td>1</td>\n",
              "      <td>1</td>\n",
              "      <td>49.00</td>\n",
              "      <td>1.00</td>\n",
              "      <td>727.00</td>\n",
              "      <td>2018</td>\n",
              "      <td>10</td>\n",
              "    </tr>\n",
              "    <tr>\n",
              "      <th>12439</th>\n",
              "      <td>TreesHouseOfGWA</td>\n",
              "      <td>1</td>\n",
              "      <td>1</td>\n",
              "      <td>37.00</td>\n",
              "      <td>1.00</td>\n",
              "      <td>37.00</td>\n",
              "      <td>2018</td>\n",
              "      <td>10</td>\n",
              "    </tr>\n",
              "    <tr>\n",
              "      <th>12440</th>\n",
              "      <td>Integral</td>\n",
              "      <td>1</td>\n",
              "      <td>1</td>\n",
              "      <td>32.00</td>\n",
              "      <td>1.00</td>\n",
              "      <td>7.00</td>\n",
              "      <td>2018</td>\n",
              "      <td>1</td>\n",
              "    </tr>\n",
              "    <tr>\n",
              "      <th>12441</th>\n",
              "      <td>EarthPorn</td>\n",
              "      <td>1</td>\n",
              "      <td>1</td>\n",
              "      <td>31.00</td>\n",
              "      <td>1.00</td>\n",
              "      <td>239.00</td>\n",
              "      <td>2018</td>\n",
              "      <td>6</td>\n",
              "    </tr>\n",
              "  </tbody>\n",
              "</table>\n",
              "<p>12442 rows × 8 columns</p>\n",
              "</div>"
            ],
            "text/plain": [
              "           uniq_subreddit  num_uniq_authors  ...  year  month\n",
              "0          CryptoCurrency              7502  ...  2018      1\n",
              "1         leagueoflegends              8039  ...  2018      1\n",
              "2          DestinyTheGame              6163  ...  2018      5\n",
              "3         leagueoflegends              7681  ...  2018      3\n",
              "4         leagueoflegends              7117  ...  2018      6\n",
              "...                   ...               ...  ...   ...    ...\n",
              "12437  HailCorporateDrama                 1  ...  2018      7\n",
              "12438           furry_irl                 1  ...  2018     10\n",
              "12439     TreesHouseOfGWA                 1  ...  2018     10\n",
              "12440            Integral                 1  ...  2018      1\n",
              "12441           EarthPorn                 1  ...  2018      6\n",
              "\n",
              "[12442 rows x 8 columns]"
            ]
          },
          "metadata": {
            "tags": []
          },
          "execution_count": 7
        }
      ]
    },
    {
      "cell_type": "markdown",
      "metadata": {
        "id": "Q1fROp3_eYH3",
        "colab_type": "text"
      },
      "source": [
        "Let's see with Data Studio the visualization of our data."
      ]
    },
    {
      "cell_type": "markdown",
      "metadata": {
        "id": "SSdtCSVHeYbA",
        "colab_type": "text"
      },
      "source": [
        "As for comments ds, also in posts can be usefull analyze `number_comments` and `num_uniq_authors` separately"
      ]
    },
    {
      "cell_type": "code",
      "metadata": {
        "id": "U2s9LFjfeDVu",
        "colab_type": "code",
        "outputId": "e68cccb6-de6e-4936-8774-0c98a6364a7e",
        "colab": {
          "resources": {
            "http://localhost:8080/nbextensions/google.colab/files.js": {
              "data": "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",
              "ok": true,
              "headers": [
                [
                  "content-type",
                  "application/javascript"
                ]
              ],
              "status": 200,
              "status_text": ""
            }
          },
          "base_uri": "https://localhost:8080/",
          "height": 71
        }
      },
      "source": [
        "from google.colab import files\n",
        "uploaded = files.upload()"
      ],
      "execution_count": 0,
      "outputs": [
        {
          "output_type": "display_data",
          "data": {
            "text/html": [
              "\n",
              "     <input type=\"file\" id=\"files-d40a388d-9845-4456-8c52-98e4f0ca612f\" name=\"files[]\" multiple disabled />\n",
              "     <output id=\"result-d40a388d-9845-4456-8c52-98e4f0ca612f\">\n",
              "      Upload widget is only available when the cell has been executed in the\n",
              "      current browser session. Please rerun this cell to enable.\n",
              "      </output>\n",
              "      <script src=\"/nbextensions/google.colab/files.js\"></script> "
            ],
            "text/plain": [
              "<IPython.core.display.HTML object>"
            ]
          },
          "metadata": {
            "tags": []
          }
        },
        {
          "output_type": "stream",
          "text": [
            "Saving posts_numbComments_unicAuthors.png to posts_numbComments_unicAuthors.png\n"
          ],
          "name": "stdout"
        }
      ]
    },
    {
      "cell_type": "code",
      "metadata": {
        "id": "SiLejASZfLD-",
        "colab_type": "code",
        "outputId": "7870e50e-d4a6-46aa-809f-e6c8fe5710ec",
        "colab": {
          "base_uri": "https://localhost:8080/",
          "height": 521
        }
      },
      "source": [
        "from IPython.display import Image\n",
        "Image('posts_numbComments_unicAuthors.png', width = 1000)"
      ],
      "execution_count": 0,
      "outputs": [
        {
          "output_type": "execute_result",
          "data": {
            "image/png": "[encoded data removed]",
            "text/plain": [
              "<IPython.core.display.Image object>"
            ]
          },
          "metadata": {
            "tags": [],
            "image/png": {
              "width": 1000
            }
          },
          "execution_count": 10
        }
      ]
    },
    {
      "cell_type": "markdown",
      "metadata": {
        "id": "sxP1TDF1gYl5",
        "colab_type": "text"
      },
      "source": [
        "There is a correlation between number of post published and number of unique authors."
      ]
    },
    {
      "cell_type": "markdown",
      "metadata": {
        "id": "V-R8H3pyhrA9",
        "colab_type": "text"
      },
      "source": [
        "## Top subreddits per year - posts table"
      ]
    },
    {
      "cell_type": "markdown",
      "metadata": {
        "id": "6kHUTBvgh2FM",
        "colab_type": "text"
      },
      "source": [
        "The final solution for my analysis is to extract:\n",
        "\n",
        "*   the top n subreddits with more posts published on it\n",
        "*   the top n subreddit with more unique authors that writes on them\n",
        "\n",
        "\n",
        "Finally, with this data, I'll study each subreddit selecting:\n",
        "\n",
        "*   those with a costant popularity during the years \n",
        "*   those that cover a wider category threshold\n",
        "\n",
        "For the last point I'll use the follow public classification on GitHub: [subreddit-Directory-Skeleton](https://github.com/MetASnoo/Subreddit-Directory-Skeleton/blob/master/subreddits.txt)"
      ]
    },
    {
      "cell_type": "markdown",
      "metadata": {
        "id": "Da8UCW_ui1LV",
        "colab_type": "text"
      },
      "source": [
        "### Top posts in all years"
      ]
    },
    {
      "cell_type": "markdown",
      "metadata": {
        "id": "H04QEmB5i61S",
        "colab_type": "text"
      },
      "source": [
        "The query will run all `reddit_posts` talble from 2005 to 2019. \n",
        "\n",
        "Here below again a summary of the fileters applied, tried several time in order to find the best solution for my model.\n",
        "\n",
        "*   cleaned data from empty or deleted data\n",
        "*   title con has a length of 10 character because I want to exclude short texts\n",
        "*   selftext has a lenght of 15, a bit longer than title, because we suppose this is a common standard and I also exclude the too shorts texts\n",
        "*   posts_per_author\n",
        "*   avg_comments_in_post\n"
      ]
    },
    {
      "cell_type": "markdown",
      "metadata": {
        "id": "NvMj8x2vISYE",
        "colab_type": "text"
      },
      "source": [
        "With this query, I'll create a table with all posts per subreddit, year and month:\n",
        "\n",
        "```sql\n",
        "WITH\n",
        "  q1 AS(\n",
        "  SELECT\n",
        "    subreddit,\n",
        "    author,\n",
        "    title,\n",
        "    selftext,\n",
        "    num_comments,\n",
        "    score,\n",
        "    created_utc\n",
        "  FROM\n",
        "    `fh-bigquery.reddit_posts.20*`\n",
        "  WHERE\n",
        "    LENGTH(title) > 10\n",
        "    AND LENGTH(selftext) > 15\n",
        "      AND (selftext != '[deleted]' AND length(title) > 15)\n",
        "      AND (selftext != '[removed]' AND length(title) > 15)\n",
        "      AND (selftext != '[ Removed by reddit in response to a copyright notice. ]' AND length(title) > 15)\n",
        "      AND (selftext != 'NaN' AND length(title) > 15)\n",
        "      AND (selftext != '' AND length(title) > 15)),\n",
        "  q2 AS (\n",
        "  SELECT\n",
        "    DISTINCT(subreddit) uniq_subreddit,\n",
        "    COUNT(DISTINCT(author)) AS num_uniq_authors,\n",
        "    COUNT(title) AS number_titles, --selftext is not consider because give me the same result as title\n",
        "    ROUND(AVG(num_comments),2) AS avg_comments_in_post,\n",
        "    ROUND((COUNT(title) / COUNT(DISTINCT(author))),2) AS posts_per_author,\n",
        "    ROUND(AVG(score), 2) AS avg_score,\n",
        "    EXTRACT(YEAR\n",
        "    FROM\n",
        "      TIMESTAMP_SECONDS(created_utc)) year,\n",
        "    EXTRACT(month\n",
        "    FROM\n",
        "      TIMESTAMP_SECONDS(created_utc)) month\n",
        "  FROM\n",
        "    q1\n",
        "  GROUP BY\n",
        "    1,\n",
        "    7,\n",
        "    8\n",
        "  ORDER BY\n",
        "    number_titles DESC)\n",
        "SELECT\n",
        "  uniq_subreddit,\n",
        "  num_uniq_authors,\n",
        "  number_titles,\n",
        "  avg_comments_in_post,\n",
        "  posts_per_author,\n",
        "  avg_score,\n",
        "  year,\n",
        "  month\n",
        "FROM\n",
        "  q2\n",
        "WHERE\n",
        "  posts_per_author < 10\n",
        "  AND avg_comments_in_post > 30\n",
        "ORDER BY\n",
        "  number_titles DESC\n",
        "\n",
        "````\n",
        "\n"
      ]
    },
    {
      "cell_type": "markdown",
      "metadata": {
        "id": "IlVX67X6Z7aW",
        "colab_type": "text"
      },
      "source": [
        "The filters of length in title and selftest done in the previous query give us data with not much histoy in title:"
      ]
    },
    {
      "cell_type": "code",
      "metadata": {
        "id": "4R1KIQHmaGDS",
        "colab_type": "code",
        "outputId": "8952e995-56d0-4509-840e-8dd4bdf055f3",
        "colab": {
          "base_uri": "https://localhost:8080/",
          "height": 80
        }
      },
      "source": [
        "%%bigquery --project reddit-master\n",
        "SELECT\n",
        "  MAx(number_of_months) as max_month\n",
        "FROM (\n",
        "  SELECT\n",
        "    uniq_subreddit,\n",
        "    SUM(number_titles) AS total_titles,\n",
        "    max(year) as last_year_commented,\n",
        "    COUNT(month) AS number_of_months\n",
        "  FROM\n",
        "    `reddit-master.reddit_posts_data.count_title_allYears_V4`\n",
        "  GROUP BY\n",
        "    uniq_subreddit\n",
        "  ORDER BY\n",
        "    total_titles DESC)"
      ],
      "execution_count": 0,
      "outputs": [
        {
          "output_type": "execute_result",
          "data": {
            "text/html": [
              "<div>\n",
              "<style scoped>\n",
              "    .dataframe tbody tr th:only-of-type {\n",
              "        vertical-align: middle;\n",
              "    }\n",
              "\n",
              "    .dataframe tbody tr th {\n",
              "        vertical-align: top;\n",
              "    }\n",
              "\n",
              "    .dataframe thead th {\n",
              "        text-align: right;\n",
              "    }\n",
              "</style>\n",
              "<table border=\"1\" class=\"dataframe\">\n",
              "  <thead>\n",
              "    <tr style=\"text-align: right;\">\n",
              "      <th></th>\n",
              "      <th>max_month</th>\n",
              "    </tr>\n",
              "  </thead>\n",
              "  <tbody>\n",
              "    <tr>\n",
              "      <th>0</th>\n",
              "      <td>45</td>\n",
              "    </tr>\n",
              "  </tbody>\n",
              "</table>\n",
              "</div>"
            ],
            "text/plain": [
              "   max_month\n",
              "0         45"
            ]
          },
          "metadata": {
            "tags": []
          },
          "execution_count": 4
        }
      ]
    },
    {
      "cell_type": "markdown",
      "metadata": {
        "id": "LlQ_RfZsasAB",
        "colab_type": "text"
      },
      "source": [
        "Based in the result of the previous query, I've created a table where I decided to extract:\n",
        "\n",
        "- __subreddit__\n",
        "- __sum of titles__ : that gives me the subreddits with most titles throughout the life of Reddit:\n",
        "- __count of months__ :in order to identify the subreddits that has been commented during several months and years \n",
        "- __last year commented__: the las year where a comment has been done\n",
        "\n",
        "limited in 100 results.\n",
        "\n",
        "This gives me an idea of which subreddits deserve to be analyzed for my purpose.\n",
        "\n",
        "__As 2019 is the last year commented it gives me the security that the subreddits I select are the ones with more comments in several months and are still commented in 2019__"
      ]
    },
    {
      "cell_type": "markdown",
      "metadata": {
        "id": "yC-hO5KcZOos",
        "colab_type": "text"
      },
      "source": [
        "File name: __titles_top100.csv__"
      ]
    },
    {
      "cell_type": "code",
      "metadata": {
        "id": "iNu2jQzjbAMq",
        "colab_type": "code",
        "outputId": "5d079dcd-5484-4e66-8867-fa83a3e651f1",
        "colab": {
          "base_uri": "https://localhost:8080/",
          "height": 419
        }
      },
      "source": [
        "%%bigquery --project reddit-master\n",
        "SELECT\n",
        "  *\n",
        "FROM (\n",
        "  SELECT\n",
        "    uniq_subreddit,\n",
        "    SUM(number_titles) AS total_titles,\n",
        "    max(year) as last_year_commented,\n",
        "    COUNT(month) AS number_of_months\n",
        "  FROM\n",
        "    `reddit-master.reddit_posts_data.count_title_allYears_V4`\n",
        "  GROUP BY\n",
        "    uniq_subreddit\n",
        "  ORDER BY\n",
        "    total_titles DESC)\n",
        "LIMIT 100"
      ],
      "execution_count": 0,
      "outputs": [
        {
          "output_type": "execute_result",
          "data": {
            "text/html": [
              "<div>\n",
              "<style scoped>\n",
              "    .dataframe tbody tr th:only-of-type {\n",
              "        vertical-align: middle;\n",
              "    }\n",
              "\n",
              "    .dataframe tbody tr th {\n",
              "        vertical-align: top;\n",
              "    }\n",
              "\n",
              "    .dataframe thead th {\n",
              "        text-align: right;\n",
              "    }\n",
              "</style>\n",
              "<table border=\"1\" class=\"dataframe\">\n",
              "  <thead>\n",
              "    <tr style=\"text-align: right;\">\n",
              "      <th></th>\n",
              "      <th>uniq_subreddit</th>\n",
              "      <th>total_titles</th>\n",
              "      <th>last_year_commented</th>\n",
              "      <th>number_of_months</th>\n",
              "    </tr>\n",
              "  </thead>\n",
              "  <tbody>\n",
              "    <tr>\n",
              "      <th>0</th>\n",
              "      <td>leagueoflegends</td>\n",
              "      <td>277930</td>\n",
              "      <td>2019</td>\n",
              "      <td>29</td>\n",
              "    </tr>\n",
              "    <tr>\n",
              "      <th>1</th>\n",
              "      <td>SquaredCircle</td>\n",
              "      <td>209900</td>\n",
              "      <td>2019</td>\n",
              "      <td>45</td>\n",
              "    </tr>\n",
              "    <tr>\n",
              "      <th>2</th>\n",
              "      <td>nba</td>\n",
              "      <td>203999</td>\n",
              "      <td>2019</td>\n",
              "      <td>45</td>\n",
              "    </tr>\n",
              "    <tr>\n",
              "      <th>3</th>\n",
              "      <td>DestinyTheGame</td>\n",
              "      <td>172268</td>\n",
              "      <td>2018</td>\n",
              "      <td>25</td>\n",
              "    </tr>\n",
              "    <tr>\n",
              "      <th>4</th>\n",
              "      <td>anime</td>\n",
              "      <td>154751</td>\n",
              "      <td>2019</td>\n",
              "      <td>45</td>\n",
              "    </tr>\n",
              "    <tr>\n",
              "      <th>...</th>\n",
              "      <td>...</td>\n",
              "      <td>...</td>\n",
              "      <td>...</td>\n",
              "      <td>...</td>\n",
              "    </tr>\n",
              "    <tr>\n",
              "      <th>95</th>\n",
              "      <td>canada</td>\n",
              "      <td>17444</td>\n",
              "      <td>2019</td>\n",
              "      <td>41</td>\n",
              "    </tr>\n",
              "    <tr>\n",
              "      <th>96</th>\n",
              "      <td>reddevils</td>\n",
              "      <td>17040</td>\n",
              "      <td>2019</td>\n",
              "      <td>45</td>\n",
              "    </tr>\n",
              "    <tr>\n",
              "      <th>97</th>\n",
              "      <td>running</td>\n",
              "      <td>17019</td>\n",
              "      <td>2019</td>\n",
              "      <td>32</td>\n",
              "    </tr>\n",
              "    <tr>\n",
              "      <th>98</th>\n",
              "      <td>sportsbook</td>\n",
              "      <td>16966</td>\n",
              "      <td>2019</td>\n",
              "      <td>43</td>\n",
              "    </tr>\n",
              "    <tr>\n",
              "      <th>99</th>\n",
              "      <td>OnePieceTC</td>\n",
              "      <td>16685</td>\n",
              "      <td>2019</td>\n",
              "      <td>36</td>\n",
              "    </tr>\n",
              "  </tbody>\n",
              "</table>\n",
              "<p>100 rows × 4 columns</p>\n",
              "</div>"
            ],
            "text/plain": [
              "     uniq_subreddit  total_titles  last_year_commented  number_of_months\n",
              "0   leagueoflegends        277930                 2019                29\n",
              "1     SquaredCircle        209900                 2019                45\n",
              "2               nba        203999                 2019                45\n",
              "3    DestinyTheGame        172268                 2018                25\n",
              "4             anime        154751                 2019                45\n",
              "..              ...           ...                  ...               ...\n",
              "95           canada         17444                 2019                41\n",
              "96        reddevils         17040                 2019                45\n",
              "97          running         17019                 2019                32\n",
              "98       sportsbook         16966                 2019                43\n",
              "99       OnePieceTC         16685                 2019                36\n",
              "\n",
              "[100 rows x 4 columns]"
            ]
          },
          "metadata": {
            "tags": []
          },
          "execution_count": 6
        }
      ]
    },
    {
      "cell_type": "markdown",
      "metadata": {
        "id": "UwbTd2TWISU1",
        "colab_type": "text"
      },
      "source": [
        "### Top unique authors in all years\n"
      ]
    },
    {
      "cell_type": "markdown",
      "metadata": {
        "id": "K0w7STymKEN3",
        "colab_type": "text"
      },
      "source": [
        "Unique authors (the number of authors that wrote a comment) will follow the same tratment of posts. The query will be the same as the previous but this time, order by the number of unique authors:\n",
        "\n",
        "```sql\n",
        "WITH\n",
        "  q1 AS(\n",
        "  SELECT\n",
        "    subreddit,\n",
        "    author,\n",
        "    title,\n",
        "    selftext,\n",
        "    num_comments,\n",
        "    score,\n",
        "    created_utc\n",
        "  FROM\n",
        "    `fh-bigquery.reddit_posts.20*`\n",
        "  WHERE\n",
        "    LENGTH(title) > 10\n",
        "    AND LENGTH(selftext) > 15\n",
        "      AND (selftext != '[deleted]' AND length(title) > 15)\n",
        "      AND (selftext != '[removed]' AND length(title) > 15)\n",
        "      AND (selftext != '[ Removed by reddit in response to a copyright notice. ]' AND length(title) > 15)\n",
        "      AND (selftext != 'NaN' AND length(title) > 15)\n",
        "      AND (selftext != '' AND length(title) > 15)),\n",
        "  q2 AS (\n",
        "  SELECT\n",
        "    DISTINCT(subreddit) uniq_subreddit,\n",
        "    COUNT(DISTINCT(author)) AS num_uniq_authors,\n",
        "    COUNT(title) AS number_titles, --selftext is not consider because give me the same result as title\n",
        "    ROUND(AVG(num_comments),2) AS avg_comments_in_post,\n",
        "    ROUND((COUNT(title) / COUNT(DISTINCT(author))),2) AS posts_per_author,\n",
        "    ROUND(AVG(score), 2) AS avg_score,\n",
        "    EXTRACT(YEAR\n",
        "    FROM\n",
        "      TIMESTAMP_SECONDS(created_utc)) year,\n",
        "    EXTRACT(month\n",
        "    FROM\n",
        "      TIMESTAMP_SECONDS(created_utc)) month\n",
        "  FROM\n",
        "    q1\n",
        "  GROUP BY\n",
        "    1,\n",
        "    7,\n",
        "    8\n",
        "  ORDER BY\n",
        "    number_titles DESC)\n",
        "SELECT\n",
        "  uniq_subreddit,\n",
        "  num_uniq_authors,\n",
        "  number_titles,\n",
        "  avg_comments_in_post,\n",
        "  posts_per_author,\n",
        "  avg_score,\n",
        "  year,\n",
        "  month\n",
        "FROM\n",
        "  q2\n",
        "WHERE\n",
        "  posts_per_author < 10\n",
        "  AND avg_comments_in_post > 30\n",
        "ORDER BY\n",
        "  num_uniq_authors DESC\n",
        "\n",
        "```"
      ]
    },
    {
      "cell_type": "markdown",
      "metadata": {
        "id": "fTaF1645ZqSd",
        "colab_type": "text"
      },
      "source": [
        "Based in the result of the previous query, I've created a table where I decided to extract to inspect:\n",
        "\n",
        "- __subreddit__\n",
        "- __sum of unique authors__ (that gives me the most \"famous\" subreddits throughout the life of Reddit)\n",
        "- __count of months__ in order to identify the subreddits that has been commented during several months and yeras\n",
        "- __last year commented__: the las year where a comment has been done\n",
        "\n",
        "limited in 100 results.\n",
        "\n",
        "Once again, this gives me an idea of which subreddits deserve to be analyzed for my purpose.\n",
        "\n",
        "__As 2019 is the last year commented it gives me the security that the subreddits I select are the ones with more comments from unique authors in several months and are still commented in 2019__"
      ]
    },
    {
      "cell_type": "markdown",
      "metadata": {
        "id": "daRF8HxIZvFZ",
        "colab_type": "text"
      },
      "source": [
        "File name: __authors_in_posts_top100.csv__\n"
      ]
    },
    {
      "cell_type": "code",
      "metadata": {
        "id": "8CxEJ8EChgP-",
        "colab_type": "code",
        "outputId": "d9245b3c-0c1d-4fa9-9710-f995294e4b3b",
        "colab": {
          "base_uri": "https://localhost:8080/",
          "height": 419
        }
      },
      "source": [
        "%%bigquery --project reddit-master\n",
        "SELECT\n",
        "  *\n",
        "FROM (\n",
        "  SELECT\n",
        "    uniq_subreddit,\n",
        "    SUM(num_uniq_authors) AS total_authors_in_posts,\n",
        "    max(year) as last_year_commented,\n",
        "    COUNT(month) AS number_of_months\n",
        "  FROM\n",
        "    `reddit-master.reddit_posts_data.count_uniq_authors_posts_allYears_V4`\n",
        "  GROUP BY\n",
        "    uniq_subreddit\n",
        "  ORDER BY\n",
        "    total_authors_in_posts DESC)\n",
        "LIMIT 100"
      ],
      "execution_count": 0,
      "outputs": [
        {
          "output_type": "execute_result",
          "data": {
            "text/html": [
              "<div>\n",
              "<style scoped>\n",
              "    .dataframe tbody tr th:only-of-type {\n",
              "        vertical-align: middle;\n",
              "    }\n",
              "\n",
              "    .dataframe tbody tr th {\n",
              "        vertical-align: top;\n",
              "    }\n",
              "\n",
              "    .dataframe thead th {\n",
              "        text-align: right;\n",
              "    }\n",
              "</style>\n",
              "<table border=\"1\" class=\"dataframe\">\n",
              "  <thead>\n",
              "    <tr style=\"text-align: right;\">\n",
              "      <th></th>\n",
              "      <th>uniq_subreddit</th>\n",
              "      <th>total_authors_in_posts</th>\n",
              "      <th>last_year_commented</th>\n",
              "      <th>number_of_months</th>\n",
              "    </tr>\n",
              "  </thead>\n",
              "  <tbody>\n",
              "    <tr>\n",
              "      <th>0</th>\n",
              "      <td>leagueoflegends</td>\n",
              "      <td>201692</td>\n",
              "      <td>2019</td>\n",
              "      <td>29</td>\n",
              "    </tr>\n",
              "    <tr>\n",
              "      <th>1</th>\n",
              "      <td>SquaredCircle</td>\n",
              "      <td>111661</td>\n",
              "      <td>2019</td>\n",
              "      <td>45</td>\n",
              "    </tr>\n",
              "    <tr>\n",
              "      <th>2</th>\n",
              "      <td>DestinyTheGame</td>\n",
              "      <td>105841</td>\n",
              "      <td>2018</td>\n",
              "      <td>25</td>\n",
              "    </tr>\n",
              "    <tr>\n",
              "      <th>3</th>\n",
              "      <td>nba</td>\n",
              "      <td>104106</td>\n",
              "      <td>2019</td>\n",
              "      <td>45</td>\n",
              "    </tr>\n",
              "    <tr>\n",
              "      <th>4</th>\n",
              "      <td>anime</td>\n",
              "      <td>95410</td>\n",
              "      <td>2019</td>\n",
              "      <td>45</td>\n",
              "    </tr>\n",
              "    <tr>\n",
              "      <th>...</th>\n",
              "      <td>...</td>\n",
              "      <td>...</td>\n",
              "      <td>...</td>\n",
              "      <td>...</td>\n",
              "    </tr>\n",
              "    <tr>\n",
              "      <th>95</th>\n",
              "      <td>CasualUK</td>\n",
              "      <td>12593</td>\n",
              "      <td>2019</td>\n",
              "      <td>31</td>\n",
              "    </tr>\n",
              "    <tr>\n",
              "      <th>96</th>\n",
              "      <td>AskAnAmerican</td>\n",
              "      <td>12549</td>\n",
              "      <td>2019</td>\n",
              "      <td>45</td>\n",
              "    </tr>\n",
              "    <tr>\n",
              "      <th>97</th>\n",
              "      <td>grandorder</td>\n",
              "      <td>12526</td>\n",
              "      <td>2019</td>\n",
              "      <td>35</td>\n",
              "    </tr>\n",
              "    <tr>\n",
              "      <th>98</th>\n",
              "      <td>ukpolitics</td>\n",
              "      <td>12506</td>\n",
              "      <td>2019</td>\n",
              "      <td>44</td>\n",
              "    </tr>\n",
              "    <tr>\n",
              "      <th>99</th>\n",
              "      <td>tennis</td>\n",
              "      <td>12391</td>\n",
              "      <td>2019</td>\n",
              "      <td>38</td>\n",
              "    </tr>\n",
              "  </tbody>\n",
              "</table>\n",
              "<p>100 rows × 4 columns</p>\n",
              "</div>"
            ],
            "text/plain": [
              "     uniq_subreddit  ...  number_of_months\n",
              "0   leagueoflegends  ...                29\n",
              "1     SquaredCircle  ...                45\n",
              "2    DestinyTheGame  ...                25\n",
              "3               nba  ...                45\n",
              "4             anime  ...                45\n",
              "..              ...  ...               ...\n",
              "95         CasualUK  ...                31\n",
              "96    AskAnAmerican  ...                45\n",
              "97       grandorder  ...                35\n",
              "98       ukpolitics  ...                44\n",
              "99           tennis  ...                38\n",
              "\n",
              "[100 rows x 4 columns]"
            ]
          },
          "metadata": {
            "tags": []
          },
          "execution_count": 5
        }
      ]
    }
  ]
}