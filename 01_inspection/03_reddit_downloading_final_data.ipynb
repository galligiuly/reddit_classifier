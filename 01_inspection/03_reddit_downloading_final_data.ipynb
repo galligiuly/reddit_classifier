{
  "nbformat": 4,
  "nbformat_minor": 0,
  "metadata": {
    "colab": {
      "name": "03-reddit_downloading-final-data.ipynb",
      "provenance": [],
      "collapsed_sections": []
    },
    "kernelspec": {
      "name": "python3",
      "display_name": "Python 3"
    },
    "accelerator": "GPU"
  },
  "cells": [
    {
      "cell_type": "markdown",
      "metadata": {
        "id": "RCpiUvbci77N",
        "colab_type": "text"
      },
      "source": [
        "# Downloading the final data"
      ]
    },
    {
      "cell_type": "code",
      "metadata": {
        "id": "xc2maLqyi2dB",
        "colab_type": "code",
        "outputId": "cf332be3-9902-4bbd-bf66-d060721d2dce",
        "colab": {
          "base_uri": "https://localhost:8080/",
          "height": 34
        }
      },
      "source": [
        "from google.colab import auth\n",
        "auth.authenticate_user()\n",
        "print('Authenticated')"
      ],
      "execution_count": 0,
      "outputs": [
        {
          "output_type": "stream",
          "text": [
            "Authenticated\n"
          ],
          "name": "stdout"
        }
      ]
    },
    {
      "cell_type": "code",
      "metadata": {
        "id": "8Vn3ENdQtiMe",
        "colab_type": "code",
        "outputId": "2a7cf18d-bc08-43f5-c293-06ba166ece6f",
        "colab": {
          "base_uri": "https://localhost:8080/",
          "height": 258
        }
      },
      "source": [
        "!gcloud auth login"
      ],
      "execution_count": 0,
      "outputs": [
        {
          "output_type": "stream",
          "text": [
            "Go to the following link in your browser:\n",
            "\n",
            "    https://accounts.google.com/o/oauth2/auth?code_challenge=Du8HvVfJ1PzQgLSenhvXtu7YOOso_bwVhM0HRZvx2Mg&prompt=select_account&code_challenge_method=S256&access_type=offline&redirect_uri=urn%3Aietf%3Awg%3Aoauth%3A2.0%3Aoob&response_type=code&client_id=32555940559.apps.googleusercontent.com&scope=https%3A%2F%2Fwww.googleapis.com%2Fauth%2Fuserinfo.email+https%3A%2F%2Fwww.googleapis.com%2Fauth%2Fcloud-platform+https%3A%2F%2Fwww.googleapis.com%2Fauth%2Fappengine.admin+https%3A%2F%2Fwww.googleapis.com%2Fauth%2Fcompute+https%3A%2F%2Fwww.googleapis.com%2Fauth%2Faccounts.reauth\n",
            "\n",
            "\n",
            "Enter verification code: 4/ugF8qicKvFKxUWagG0HWNbHMeK8-UAi-RaKaOvaVcBDFNaZxUac4U-8\n",
            "\u001b[1;33mWARNING:\u001b[0m `gcloud auth login` no longer writes application default credentials.\n",
            "If you need to use ADC, see:\n",
            "  gcloud auth application-default --help\n",
            "\n",
            "You are now logged in as [galli.giuly@gmail.com].\n",
            "Your current project is [None].  You can change this setting by running:\n",
            "  $ gcloud config set project PROJECT_ID\n"
          ],
          "name": "stdout"
        }
      ]
    },
    {
      "cell_type": "code",
      "metadata": {
        "id": "2oZMnIc-llSm",
        "colab_type": "code",
        "outputId": "2acb41bc-7c94-458a-ed6b-5753fd93d8bb",
        "colab": {
          "base_uri": "https://localhost:8080/",
          "height": 34
        }
      },
      "source": [
        "%env GCLOUD_PROJECT=reddit-master"
      ],
      "execution_count": 0,
      "outputs": [
        {
          "output_type": "stream",
          "text": [
            "env: GCLOUD_PROJECT=reddit-master\n"
          ],
          "name": "stdout"
        }
      ]
    },
    {
      "cell_type": "markdown",
      "metadata": {
        "id": "uZqJR47oPebr",
        "colab_type": "text"
      },
      "source": [
        "# Summarizing"
      ]
    },
    {
      "cell_type": "markdown",
      "metadata": {
        "id": "2i-HL24cPeYH",
        "colab_type": "text"
      },
      "source": [
        "In this step I'll download my final data from where I'll implementing the best model that predict the related subreddit for a given text. \n",
        "\n",
        "During the exploration of the data, I've decided to change some parameter of the legth of the text I whant to download (from comments and posts) and also I tried manually to balance the dataset liminting the downloaing to the lenght of the subreddit with \"less\" comments / posts and filter all the others subreddits with his limit of dimension."
      ]
    },
    {
      "cell_type": "markdown",
      "metadata": {
        "id": "rTEULU-FoMV7",
        "colab_type": "text"
      },
      "source": [
        "### Reddit comments - BQ download"
      ]
    },
    {
      "cell_type": "markdown",
      "metadata": {
        "id": "9v7tOA-Vmlo_",
        "colab_type": "text"
      },
      "source": [
        "I'll run the query below for `reddit_comments` where the limit it's now 153643 for each subreddit and the length of the body I've change to > 50. \n",
        "\n",
        "The final result is **reddit_com**\n",
        "\n",
        "\n",
        "```\n",
        "SELECT\n",
        "  *\n",
        "FROM (\n",
        "  SELECT\n",
        "    subreddit,\n",
        "    body\n",
        "  FROM\n",
        "    `fh-bigquery.reddit_comments.2018*`\n",
        "  WHERE\n",
        "    subreddit = 'politics'\n",
        "    AND LENGTH(body) > 50\n",
        "    AND body != '[deleted]'\n",
        "    AND body != '[removed]'\n",
        "    AND body != '[ Removed by reddit in response to a copyright notice. ]'\n",
        "    AND body != 'NaN'\n",
        "    AND body != ''\n",
        "  LIMIT\n",
        "    153643)\n",
        "UNION ALL (\n",
        "  SELECT\n",
        "    subreddit,\n",
        "    body\n",
        "  FROM\n",
        "    `fh-bigquery.reddit_comments.2018*`\n",
        "  WHERE\n",
        "    subreddit = 'gaming'\n",
        "    AND LENGTH(body) > 50\n",
        "    AND body != '[deleted]'\n",
        "    AND body != '[removed]'\n",
        "    AND body != '[ Removed by reddit in response to a copyright notice. ]'\n",
        "    AND body != 'NaN'\n",
        "    AND body != ''\n",
        "  LIMIT\n",
        "    153643)\n",
        "UNION ALL (\n",
        "  SELECT\n",
        "    subreddit,\n",
        "    body\n",
        "  FROM\n",
        "    `fh-bigquery.reddit_comments.2018*`\n",
        "  WHERE\n",
        "    subreddit = 'nba'\n",
        "    AND LENGTH(body) > 50\n",
        "    AND body != '[deleted]'\n",
        "    AND body != '[removed]'\n",
        "    AND body != '[ Removed by reddit in response to a copyright notice. ]'\n",
        "    AND body != 'NaN'\n",
        "    AND body != ''\n",
        "  LIMIT\n",
        "    153643)\n",
        "UNION ALL (\n",
        "  SELECT\n",
        "    subreddit,\n",
        "    body\n",
        "  FROM\n",
        "    `fh-bigquery.reddit_comments.2018*`\n",
        "  WHERE\n",
        "    subreddit = 'movies'\n",
        "    AND LENGTH(body) > 50\n",
        "    AND body != '[deleted]'\n",
        "    AND body != '[removed]'\n",
        "    AND body != '[ Removed by reddit in response to a copyright notice. ]'\n",
        "    AND body != 'NaN'\n",
        "    AND body != ''\n",
        "  LIMIT\n",
        "    153643)\n",
        "UNION ALL (\n",
        "  SELECT\n",
        "    subreddit,\n",
        "    body\n",
        "  FROM\n",
        "    `fh-bigquery.reddit_comments.2018*`\n",
        "  WHERE\n",
        "    subreddit = 'atheism'\n",
        "    AND LENGTH(body) > 50\n",
        "    AND body != '[deleted]'\n",
        "    AND body != '[removed]'\n",
        "    AND body != '[ Removed by reddit in response to a copyright notice. ]'\n",
        "    AND body != 'NaN'\n",
        "    AND body != ''\n",
        "  LIMIT\n",
        "    153643)\n",
        "UNION ALL (\n",
        "  SELECT\n",
        "    subreddit,\n",
        "    body\n",
        "  FROM\n",
        "    `fh-bigquery.reddit_comments.2018*`\n",
        "  WHERE\n",
        "    subreddit = 'aww'\n",
        "    AND LENGTH(body) > 50\n",
        "    AND body != '[deleted]'\n",
        "    AND body != '[removed]'\n",
        "    AND body != '[ Removed by reddit in response to a copyright notice. ]'\n",
        "    AND body != 'NaN'\n",
        "    AND body != ''\n",
        "  LIMIT\n",
        "    153643)\n",
        "UNION ALL (\n",
        "  SELECT\n",
        "    subreddit,\n",
        "    body\n",
        "  FROM\n",
        "    `fh-bigquery.reddit_comments.2018*`\n",
        "  WHERE\n",
        "    subreddit = 'technology'\n",
        "    AND LENGTH(body) > 50\n",
        "    AND body != '[deleted]'\n",
        "    AND body != '[removed]'\n",
        "    AND body != '[ Removed by reddit in response to a copyright notice. ]'\n",
        "    AND body != 'NaN'\n",
        "    AND body != ''\n",
        "  LIMIT\n",
        "    153643)\n",
        "UNION ALL (\n",
        "  SELECT\n",
        "    subreddit,\n",
        "    body\n",
        "  FROM\n",
        "    `fh-bigquery.reddit_comments.2018*`\n",
        "  WHERE\n",
        "    subreddit = 'Fitness'\n",
        "    AND LENGTH(body) > 50\n",
        "    AND body != '[deleted]'\n",
        "    AND body != '[removed]'\n",
        "    AND body != '[ Removed by reddit in response to a copyright notice. ]'\n",
        "    AND body != 'NaN'\n",
        "    AND body != ''\n",
        "  LIMIT\n",
        "    153643)\n",
        "UNION ALL (\n",
        "  SELECT\n",
        "    subreddit,\n",
        "    body\n",
        "  FROM\n",
        "    `fh-bigquery.reddit_comments.2018*`\n",
        "  WHERE\n",
        "    subreddit = 'europe'\n",
        "    AND LENGTH(body) > 50\n",
        "    AND body != '[deleted]'\n",
        "    AND body != '[removed]'\n",
        "    AND body != '[ Removed by reddit in response to a copyright notice. ]'\n",
        "    AND body != 'NaN'\n",
        "    AND body != ''\n",
        "  LIMIT\n",
        "    153643)\n",
        "UNION ALL (\n",
        "  SELECT\n",
        "    subreddit,\n",
        "    body\n",
        "  FROM\n",
        "    `fh-bigquery.reddit_comments.2018*`\n",
        "  WHERE\n",
        "    subreddit = 'science'\n",
        "    AND LENGTH(body) > 50 \n",
        "    AND body != '[deleted]'\n",
        "    AND body != '[removed]'\n",
        "    AND body != '[ Removed by reddit in response to a copyright notice. ]'\n",
        "    AND body != 'NaN'\n",
        "    AND body != ''\n",
        "  LIMIT\n",
        "    153643)\n",
        "```\n"
      ]
    },
    {
      "cell_type": "markdown",
      "metadata": {
        "id": "mgFQJLgToKb_",
        "colab_type": "text"
      },
      "source": [
        "### Reddit posts - BQ downoload"
      ]
    },
    {
      "cell_type": "markdown",
      "metadata": {
        "id": "n4ddICPwoJz8",
        "colab_type": "text"
      },
      "source": [
        "I'll run the query below for `reddit_posts` where the limit it's now 1581 for each subreddit and the length of the selftext I've change to > 10.\n",
        "\n",
        "The final result is **reddit_pos**\n",
        "\n",
        "\n",
        "```\n",
        "SELECT\n",
        "  *\n",
        "FROM (\n",
        "  SELECT\n",
        "    subreddit,\n",
        "    title,\n",
        "    selftext\n",
        "  FROM\n",
        "    `fh-bigquery.reddit_posts.2018*`\n",
        "  WHERE\n",
        "    subreddit = 'politics'\n",
        "    AND ((LENGTH(title) > 5\n",
        "        AND LENGTH(selftext) > 10)\n",
        "      OR ((selftext != '[deleted]'\n",
        "          AND LENGTH(title) > 5)\n",
        "        AND (selftext != '[removed]'\n",
        "          AND LENGTH(title) > 5)\n",
        "        AND (selftext != '[ Removed by reddit in response to a copyright notice. ]'\n",
        "          AND LENGTH(title) > 5)\n",
        "        AND (selftext != 'NaN'\n",
        "          AND LENGTH(title) > 5)\n",
        "        AND (selftext != ''\n",
        "          AND LENGTH(title) > 5)))\n",
        "  LIMIT\n",
        "    1581)\n",
        "UNION ALL (\n",
        "  SELECT\n",
        "    subreddit,\n",
        "    title,\n",
        "    selftext\n",
        "  FROM\n",
        "    `fh-bigquery.reddit_posts.2018*`\n",
        "  WHERE\n",
        "    subreddit = 'gaming'\n",
        "    AND ((LENGTH(title) > 5\n",
        "        AND LENGTH(selftext) > 10)\n",
        "      OR ((selftext != '[deleted]'\n",
        "          AND LENGTH(title) > 5)\n",
        "        AND (selftext != '[removed]'\n",
        "          AND LENGTH(title) > 5)\n",
        "        AND (selftext != '[ Removed by reddit in response to a copyright notice. ]'\n",
        "          AND LENGTH(title) > 5)\n",
        "        AND (selftext != 'NaN'\n",
        "          AND LENGTH(title) > 5)\n",
        "        AND (selftext != ''\n",
        "          AND LENGTH(title) > 5)))\n",
        "  LIMIT\n",
        "    1581)\n",
        "UNION ALL (\n",
        "  SELECT\n",
        "    subreddit,\n",
        "    title,\n",
        "    selftext\n",
        "  FROM\n",
        "    `fh-bigquery.reddit_posts.2018*`\n",
        "  WHERE\n",
        "    subreddit = 'nba'\n",
        "    AND ((LENGTH(title) > 5\n",
        "        AND LENGTH(selftext) > 10)\n",
        "      OR ((selftext != '[deleted]'\n",
        "          AND LENGTH(title) > 5)\n",
        "        AND (selftext != '[removed]'\n",
        "          AND LENGTH(title) > 5)\n",
        "        AND (selftext != '[ Removed by reddit in response to a copyright notice. ]'\n",
        "          AND LENGTH(title) > 5)\n",
        "        AND (selftext != 'NaN'\n",
        "          AND LENGTH(title) > 5)\n",
        "        AND (selftext != ''\n",
        "          AND LENGTH(title) > 5)))\n",
        "  LIMIT\n",
        "    1581)\n",
        "UNION ALL (\n",
        "  SELECT\n",
        "    subreddit,\n",
        "    title,\n",
        "    selftext\n",
        "  FROM\n",
        "    `fh-bigquery.reddit_posts.2018*`\n",
        "  WHERE\n",
        "    subreddit = 'movies'\n",
        "    AND ((LENGTH(title) > 5\n",
        "        AND LENGTH(selftext) > 10)\n",
        "      OR ((selftext != '[deleted]'\n",
        "          AND LENGTH(title) > 5)\n",
        "        AND (selftext != '[removed]'\n",
        "          AND LENGTH(title) > 5)\n",
        "        AND (selftext != '[ Removed by reddit in response to a copyright notice. ]'\n",
        "          AND LENGTH(title) > 5)\n",
        "        AND (selftext != 'NaN'\n",
        "          AND LENGTH(title) > 5)\n",
        "        AND (selftext != ''\n",
        "          AND LENGTH(title) > 5)))\n",
        "  LIMIT\n",
        "    1581)\n",
        "UNION ALL (\n",
        "  SELECT\n",
        "    subreddit,\n",
        "    title,\n",
        "    selftext\n",
        "  FROM\n",
        "    `fh-bigquery.reddit_posts.2018*`\n",
        "  WHERE\n",
        "    subreddit = 'atheism'\n",
        "    AND ((LENGTH(title) > 5\n",
        "        AND LENGTH(selftext) > 10)\n",
        "      OR ((selftext != '[deleted]'\n",
        "          AND LENGTH(title) > 5)\n",
        "        AND (selftext != '[removed]'\n",
        "          AND LENGTH(title) > 5)\n",
        "        AND (selftext != '[ Removed by reddit in response to a copyright notice. ]'\n",
        "          AND LENGTH(title) > 5)\n",
        "        AND (selftext != 'NaN'\n",
        "          AND LENGTH(title) > 5)\n",
        "        AND (selftext != ''\n",
        "          AND LENGTH(title) > 5)))\n",
        "  LIMIT\n",
        "    1581)\n",
        "UNION ALL (\n",
        "  SELECT\n",
        "    subreddit,\n",
        "    title,\n",
        "    selftext\n",
        "  FROM\n",
        "    `fh-bigquery.reddit_posts.2018*`\n",
        "  WHERE\n",
        "    subreddit = 'aww'\n",
        "    AND ((LENGTH(title) > 5\n",
        "        AND LENGTH(selftext) > 10)\n",
        "      OR ((selftext != '[deleted]'\n",
        "          AND LENGTH(title) > 5)\n",
        "        AND (selftext != '[removed]'\n",
        "          AND LENGTH(title) > 5)\n",
        "        AND (selftext != '[ Removed by reddit in response to a copyright notice. ]'\n",
        "          AND LENGTH(title) > 5)\n",
        "        AND (selftext != 'NaN'\n",
        "          AND LENGTH(title) > 5)\n",
        "        AND (selftext != ''\n",
        "          AND LENGTH(title) > 5)))\n",
        "  LIMIT\n",
        "    1581)\n",
        "UNION ALL (\n",
        "  SELECT\n",
        "    subreddit,\n",
        "    title,\n",
        "    selftext\n",
        "  FROM\n",
        "    `fh-bigquery.reddit_posts.2018*`\n",
        "  WHERE\n",
        "    subreddit = 'technology'\n",
        "    AND ((LENGTH(title) > 5\n",
        "        AND LENGTH(selftext) > 10)\n",
        "      OR ((selftext != '[deleted]'\n",
        "          AND LENGTH(title) > 5)\n",
        "        AND (selftext != '[removed]'\n",
        "          AND LENGTH(title) > 5)\n",
        "        AND (selftext != '[ Removed by reddit in response to a copyright notice. ]'\n",
        "          AND LENGTH(title) > 5)\n",
        "        AND (selftext != 'NaN'\n",
        "          AND LENGTH(title) > 5)\n",
        "        AND (selftext != ''\n",
        "          AND LENGTH(title) > 5)))\n",
        "  LIMIT\n",
        "    1581)\n",
        "UNION ALL (\n",
        "  SELECT\n",
        "    subreddit,\n",
        "    title,\n",
        "    selftext\n",
        "  FROM\n",
        "    `fh-bigquery.reddit_posts.2018*`\n",
        "  WHERE\n",
        "    subreddit = 'Fitness'\n",
        "    AND ((LENGTH(title) > 5\n",
        "        AND LENGTH(selftext) > 10)\n",
        "      OR ((selftext != '[deleted]'\n",
        "          AND LENGTH(title) > 5)\n",
        "        AND (selftext != '[removed]'\n",
        "          AND LENGTH(title) > 5)\n",
        "        AND (selftext != '[ Removed by reddit in response to a copyright notice. ]'\n",
        "          AND LENGTH(title) > 5)\n",
        "        AND (selftext != 'NaN'\n",
        "          AND LENGTH(title) > 5)\n",
        "        AND (selftext != ''\n",
        "          AND LENGTH(title) > 5)))\n",
        "  LIMIT\n",
        "    1581)\n",
        "UNION ALL (\n",
        "  SELECT\n",
        "    subreddit,\n",
        "    title,\n",
        "    selftext\n",
        "  FROM\n",
        "    `fh-bigquery.reddit_posts.2018*`\n",
        "  WHERE\n",
        "    subreddit = 'europe'\n",
        "    AND ((LENGTH(title) > 5\n",
        "        AND LENGTH(selftext) > 10)\n",
        "      OR ((selftext != '[deleted]'\n",
        "          AND LENGTH(title) > 5)\n",
        "        AND (selftext != '[removed]'\n",
        "          AND LENGTH(title) > 5)\n",
        "        AND (selftext != '[ Removed by reddit in response to a copyright notice. ]'\n",
        "          AND LENGTH(title) > 5)\n",
        "        AND (selftext != 'NaN'\n",
        "          AND LENGTH(title) > 5)\n",
        "        AND (selftext != ''\n",
        "          AND LENGTH(title) > 5)))\n",
        "  LIMIT\n",
        "    1581)\n",
        "UNION ALL (\n",
        "  SELECT\n",
        "    subreddit,\n",
        "    title,\n",
        "    selftext\n",
        "  FROM\n",
        "    `fh-bigquery.reddit_posts.2018*`\n",
        "  WHERE\n",
        "    subreddit = 'science'\n",
        "    AND ((LENGTH(title) > 5\n",
        "        AND LENGTH(selftext) > 10)\n",
        "      OR ((selftext != '[deleted]'\n",
        "          AND LENGTH(title) > 5)\n",
        "        AND (selftext != '[removed]'\n",
        "          AND LENGTH(title) > 5)\n",
        "        AND (selftext != '[ Removed by reddit in response to a copyright notice. ]'\n",
        "          AND LENGTH(title) > 5)\n",
        "        AND (selftext != 'NaN'\n",
        "          AND LENGTH(title) > 5)\n",
        "        AND (selftext != ''\n",
        "          AND LENGTH(title) > 5)))\n",
        "  LIMIT\n",
        "    1581)\n",
        "\n",
        "```"
      ]
    },
    {
      "cell_type": "markdown",
      "metadata": {
        "id": "9f5-VfH9sZnE",
        "colab_type": "text"
      },
      "source": [
        "## Assembly data"
      ]
    },
    {
      "cell_type": "code",
      "metadata": {
        "id": "rmtwLIUVltvt",
        "colab_type": "code",
        "colab": {}
      },
      "source": [
        "import pandas as pd\n",
        "import re\n",
        "import numpy as np\n",
        "import pickle\n",
        "import spacy \n",
        "import ast\n",
        "\n",
        "\n",
        "from google.colab import files\n",
        "from spacy.lang.en.stop_words import STOP_WORDS\n",
        "from spacy.lang.en import English\n",
        "from sklearn import preprocessing\n",
        "from nltk.stem.snowball import SnowballStemmer\n",
        "from sklearn.model_selection import train_test_split"
      ],
      "execution_count": 0,
      "outputs": []
    },
    {
      "cell_type": "markdown",
      "metadata": {
        "id": "qEzwzrkzSHEI",
        "colab_type": "text"
      },
      "source": [
        "# Assembling final data"
      ]
    },
    {
      "cell_type": "markdown",
      "metadata": {
        "id": "vbEsCYDQsylM",
        "colab_type": "text"
      },
      "source": [
        "### Comments"
      ]
    },
    {
      "cell_type": "code",
      "metadata": {
        "id": "etnw3BiDsx9e",
        "colab_type": "code",
        "outputId": "6add6be1-8bca-49e2-dac5-d37d5b6f3728",
        "colab": {
          "base_uri": "https://localhost:8080/",
          "height": 68
        }
      },
      "source": [
        "!gsutil cp gs://reddit_comments_master/reddit_com ."
      ],
      "execution_count": 0,
      "outputs": [
        {
          "output_type": "stream",
          "text": [
            "Copying gs://reddit_comments_master/reddit_com...\n",
            "- [1 files][383.3 MiB/383.3 MiB]                                                \n",
            "Operation completed over 1 objects/383.3 MiB.                                    \n"
          ],
          "name": "stdout"
        }
      ]
    },
    {
      "cell_type": "code",
      "metadata": {
        "id": "XSRUz9NasdDS",
        "colab_type": "code",
        "colab": {}
      },
      "source": [
        "comments_df = pd.read_csv(\"reddit_com\")"
      ],
      "execution_count": 0,
      "outputs": []
    },
    {
      "cell_type": "code",
      "metadata": {
        "id": "PR-G_8QXuOlk",
        "colab_type": "code",
        "outputId": "50752e57-da74-4178-e137-755d982a3b65",
        "colab": {
          "base_uri": "https://localhost:8080/",
          "height": 204
        }
      },
      "source": [
        "comments_df.head()"
      ],
      "execution_count": 0,
      "outputs": [
        {
          "output_type": "execute_result",
          "data": {
            "text/html": [
              "<div>\n",
              "<style scoped>\n",
              "    .dataframe tbody tr th:only-of-type {\n",
              "        vertical-align: middle;\n",
              "    }\n",
              "\n",
              "    .dataframe tbody tr th {\n",
              "        vertical-align: top;\n",
              "    }\n",
              "\n",
              "    .dataframe thead th {\n",
              "        text-align: right;\n",
              "    }\n",
              "</style>\n",
              "<table border=\"1\" class=\"dataframe\">\n",
              "  <thead>\n",
              "    <tr style=\"text-align: right;\">\n",
              "      <th></th>\n",
              "      <th>subreddit</th>\n",
              "      <th>body</th>\n",
              "    </tr>\n",
              "  </thead>\n",
              "  <tbody>\n",
              "    <tr>\n",
              "      <th>0</th>\n",
              "      <td>gaming</td>\n",
              "      <td>Honestly, he should share the height with the ...</td>\n",
              "    </tr>\n",
              "    <tr>\n",
              "      <th>1</th>\n",
              "      <td>gaming</td>\n",
              "      <td>I'm not sure what's funnier, the way you inter...</td>\n",
              "    </tr>\n",
              "    <tr>\n",
              "      <th>2</th>\n",
              "      <td>gaming</td>\n",
              "      <td>wait..... Quelaag's Furysword scaled with soft...</td>\n",
              "    </tr>\n",
              "    <tr>\n",
              "      <th>3</th>\n",
              "      <td>gaming</td>\n",
              "      <td>What program do you use to make/display the ma...</td>\n",
              "    </tr>\n",
              "    <tr>\n",
              "      <th>4</th>\n",
              "      <td>gaming</td>\n",
              "      <td>CCleaner has turned to shit. Norton makes a to...</td>\n",
              "    </tr>\n",
              "  </tbody>\n",
              "</table>\n",
              "</div>"
            ],
            "text/plain": [
              "  subreddit                                               body\n",
              "0    gaming  Honestly, he should share the height with the ...\n",
              "1    gaming  I'm not sure what's funnier, the way you inter...\n",
              "2    gaming  wait..... Quelaag's Furysword scaled with soft...\n",
              "3    gaming  What program do you use to make/display the ma...\n",
              "4    gaming  CCleaner has turned to shit. Norton makes a to..."
            ]
          },
          "metadata": {
            "tags": []
          },
          "execution_count": 8
        }
      ]
    },
    {
      "cell_type": "code",
      "metadata": {
        "id": "Al4s831hsdCU",
        "colab_type": "code",
        "outputId": "406fa638-c819-426f-9915-143f68730370",
        "colab": {
          "base_uri": "https://localhost:8080/",
          "height": 68
        }
      },
      "source": [
        "comments_df.isnull().sum()"
      ],
      "execution_count": 0,
      "outputs": [
        {
          "output_type": "execute_result",
          "data": {
            "text/plain": [
              "subreddit    0\n",
              "body         0\n",
              "dtype: int64"
            ]
          },
          "metadata": {
            "tags": []
          },
          "execution_count": 9
        }
      ]
    },
    {
      "cell_type": "code",
      "metadata": {
        "id": "cQyiVCj0sdAb",
        "colab_type": "code",
        "outputId": "711fcee1-9360-46a3-c239-69d9dda41e39",
        "colab": {
          "base_uri": "https://localhost:8080/",
          "height": 34
        }
      },
      "source": [
        "comments_df.shape"
      ],
      "execution_count": 0,
      "outputs": [
        {
          "output_type": "execute_result",
          "data": {
            "text/plain": [
              "(1536430, 2)"
            ]
          },
          "metadata": {
            "tags": []
          },
          "execution_count": 10
        }
      ]
    },
    {
      "cell_type": "code",
      "metadata": {
        "id": "n_iLgAmww1U_",
        "colab_type": "code",
        "outputId": "d7faddbe-efcd-4f5c-b7a4-49d4d43421f8",
        "colab": {
          "base_uri": "https://localhost:8080/",
          "height": 51
        }
      },
      "source": [
        "comments_df['subreddit'].unique()"
      ],
      "execution_count": 0,
      "outputs": [
        {
          "output_type": "execute_result",
          "data": {
            "text/plain": [
              "array(['gaming', 'nba', 'europe', 'aww', 'movies', 'technology',\n",
              "       'politics', 'Fitness', 'atheism', 'science'], dtype=object)"
            ]
          },
          "metadata": {
            "tags": []
          },
          "execution_count": 11
        }
      ]
    },
    {
      "cell_type": "markdown",
      "metadata": {
        "id": "7M53M_mnvy0P",
        "colab_type": "text"
      },
      "source": [
        "### Posts"
      ]
    },
    {
      "cell_type": "code",
      "metadata": {
        "id": "rK1iBRrmsc9g",
        "colab_type": "code",
        "outputId": "bd04f902-9db8-492b-8c1f-77ee05467162",
        "colab": {
          "base_uri": "https://localhost:8080/",
          "height": 68
        }
      },
      "source": [
        "!gsutil cp gs://reddit_posts_master/reddit_pos ."
      ],
      "execution_count": 0,
      "outputs": [
        {
          "output_type": "stream",
          "text": [
            "Copying gs://reddit_posts_master/reddit_pos...\n",
            "- [1 files][ 10.7 MiB/ 10.7 MiB]                                                \n",
            "Operation completed over 1 objects/10.7 MiB.                                     \n"
          ],
          "name": "stdout"
        }
      ]
    },
    {
      "cell_type": "code",
      "metadata": {
        "id": "6HbZgAQTsc6a",
        "colab_type": "code",
        "colab": {}
      },
      "source": [
        "posts_df = pd.read_csv(\"reddit_pos\")"
      ],
      "execution_count": 0,
      "outputs": []
    },
    {
      "cell_type": "code",
      "metadata": {
        "id": "Dq1A98Uqsc20",
        "colab_type": "code",
        "outputId": "cd078d86-a50c-4719-f1af-74bc2b8a31ad",
        "colab": {
          "base_uri": "https://localhost:8080/",
          "height": 204
        }
      },
      "source": [
        "posts_df.head()"
      ],
      "execution_count": 0,
      "outputs": [
        {
          "output_type": "execute_result",
          "data": {
            "text/html": [
              "<div>\n",
              "<style scoped>\n",
              "    .dataframe tbody tr th:only-of-type {\n",
              "        vertical-align: middle;\n",
              "    }\n",
              "\n",
              "    .dataframe tbody tr th {\n",
              "        vertical-align: top;\n",
              "    }\n",
              "\n",
              "    .dataframe thead th {\n",
              "        text-align: right;\n",
              "    }\n",
              "</style>\n",
              "<table border=\"1\" class=\"dataframe\">\n",
              "  <thead>\n",
              "    <tr style=\"text-align: right;\">\n",
              "      <th></th>\n",
              "      <th>subreddit</th>\n",
              "      <th>title</th>\n",
              "      <th>selftext</th>\n",
              "    </tr>\n",
              "  </thead>\n",
              "  <tbody>\n",
              "    <tr>\n",
              "      <th>0</th>\n",
              "      <td>gaming</td>\n",
              "      <td>Wheres more co-op games like Army of Two?</td>\n",
              "      <td>I'm missing the co-op experience like games li...</td>\n",
              "    </tr>\n",
              "    <tr>\n",
              "      <th>1</th>\n",
              "      <td>gaming</td>\n",
              "      <td>Haven’t completed a gamed in years. The magic ...</td>\n",
              "      <td>Nothing ever pulls me in any more. Game after ...</td>\n",
              "    </tr>\n",
              "    <tr>\n",
              "      <th>2</th>\n",
              "      <td>gaming</td>\n",
              "      <td>Salvaged from rotten cabinet, good memories ti...</td>\n",
              "      <td>Also many of quarters lost to it. [Marquee ](h...</td>\n",
              "    </tr>\n",
              "    <tr>\n",
              "      <th>3</th>\n",
              "      <td>gaming</td>\n",
              "      <td>My Girlfriend is streaming Mobile Legends!</td>\n",
              "      <td>Here is the stream link: [Mobile Legends strea...</td>\n",
              "    </tr>\n",
              "    <tr>\n",
              "      <th>4</th>\n",
              "      <td>gaming</td>\n",
              "      <td>arcade games</td>\n",
              "      <td>anyone know where i can purchase or play old a...</td>\n",
              "    </tr>\n",
              "  </tbody>\n",
              "</table>\n",
              "</div>"
            ],
            "text/plain": [
              "  subreddit  ...                                           selftext\n",
              "0    gaming  ...  I'm missing the co-op experience like games li...\n",
              "1    gaming  ...  Nothing ever pulls me in any more. Game after ...\n",
              "2    gaming  ...  Also many of quarters lost to it. [Marquee ](h...\n",
              "3    gaming  ...  Here is the stream link: [Mobile Legends strea...\n",
              "4    gaming  ...  anyone know where i can purchase or play old a...\n",
              "\n",
              "[5 rows x 3 columns]"
            ]
          },
          "metadata": {
            "tags": []
          },
          "execution_count": 16
        }
      ]
    },
    {
      "cell_type": "code",
      "metadata": {
        "id": "otb36IV-sc0X",
        "colab_type": "code",
        "outputId": "47a393f8-a10d-42e7-9fca-ead177ab48ee",
        "colab": {
          "base_uri": "https://localhost:8080/",
          "height": 85
        }
      },
      "source": [
        "posts_df.isnull().sum()"
      ],
      "execution_count": 0,
      "outputs": [
        {
          "output_type": "execute_result",
          "data": {
            "text/plain": [
              "subreddit    0\n",
              "title        0\n",
              "selftext     0\n",
              "dtype: int64"
            ]
          },
          "metadata": {
            "tags": []
          },
          "execution_count": 17
        }
      ]
    },
    {
      "cell_type": "code",
      "metadata": {
        "id": "KupYTIYzwQDt",
        "colab_type": "code",
        "outputId": "f768725d-b311-4806-a7dd-0128f8d58d9f",
        "colab": {
          "base_uri": "https://localhost:8080/",
          "height": 34
        }
      },
      "source": [
        "posts_df.shape"
      ],
      "execution_count": 0,
      "outputs": [
        {
          "output_type": "execute_result",
          "data": {
            "text/plain": [
              "(10388, 3)"
            ]
          },
          "metadata": {
            "tags": []
          },
          "execution_count": 18
        }
      ]
    },
    {
      "cell_type": "markdown",
      "metadata": {
        "id": "NG3DNVMSwYJG",
        "colab_type": "text"
      },
      "source": [
        "#### Assembling corpus posts"
      ]
    },
    {
      "cell_type": "code",
      "metadata": {
        "id": "LysTgwG2wRwv",
        "colab_type": "code",
        "colab": {}
      },
      "source": [
        "posts_df['body']= posts_df.title + \" \" + posts_df.selftext"
      ],
      "execution_count": 0,
      "outputs": []
    },
    {
      "cell_type": "code",
      "metadata": {
        "id": "v-FcsrEWwh4H",
        "colab_type": "code",
        "outputId": "e569adae-cc00-4504-a8ee-3e46b92383be",
        "colab": {
          "base_uri": "https://localhost:8080/",
          "height": 204
        }
      },
      "source": [
        "posts_df.head()"
      ],
      "execution_count": 0,
      "outputs": [
        {
          "output_type": "execute_result",
          "data": {
            "text/html": [
              "<div>\n",
              "<style scoped>\n",
              "    .dataframe tbody tr th:only-of-type {\n",
              "        vertical-align: middle;\n",
              "    }\n",
              "\n",
              "    .dataframe tbody tr th {\n",
              "        vertical-align: top;\n",
              "    }\n",
              "\n",
              "    .dataframe thead th {\n",
              "        text-align: right;\n",
              "    }\n",
              "</style>\n",
              "<table border=\"1\" class=\"dataframe\">\n",
              "  <thead>\n",
              "    <tr style=\"text-align: right;\">\n",
              "      <th></th>\n",
              "      <th>subreddit</th>\n",
              "      <th>title</th>\n",
              "      <th>selftext</th>\n",
              "      <th>body</th>\n",
              "    </tr>\n",
              "  </thead>\n",
              "  <tbody>\n",
              "    <tr>\n",
              "      <th>0</th>\n",
              "      <td>gaming</td>\n",
              "      <td>Wheres more co-op games like Army of Two?</td>\n",
              "      <td>I'm missing the co-op experience like games li...</td>\n",
              "      <td>Wheres more co-op games like Army of Two? I'm ...</td>\n",
              "    </tr>\n",
              "    <tr>\n",
              "      <th>1</th>\n",
              "      <td>gaming</td>\n",
              "      <td>Haven’t completed a gamed in years. The magic ...</td>\n",
              "      <td>Nothing ever pulls me in any more. Game after ...</td>\n",
              "      <td>Haven’t completed a gamed in years. The magic ...</td>\n",
              "    </tr>\n",
              "    <tr>\n",
              "      <th>2</th>\n",
              "      <td>gaming</td>\n",
              "      <td>Salvaged from rotten cabinet, good memories ti...</td>\n",
              "      <td>Also many of quarters lost to it. [Marquee ](h...</td>\n",
              "      <td>Salvaged from rotten cabinet, good memories ti...</td>\n",
              "    </tr>\n",
              "    <tr>\n",
              "      <th>3</th>\n",
              "      <td>gaming</td>\n",
              "      <td>My Girlfriend is streaming Mobile Legends!</td>\n",
              "      <td>Here is the stream link: [Mobile Legends strea...</td>\n",
              "      <td>My Girlfriend is streaming Mobile Legends! Her...</td>\n",
              "    </tr>\n",
              "    <tr>\n",
              "      <th>4</th>\n",
              "      <td>gaming</td>\n",
              "      <td>arcade games</td>\n",
              "      <td>anyone know where i can purchase or play old a...</td>\n",
              "      <td>arcade games anyone know where i can purchase ...</td>\n",
              "    </tr>\n",
              "  </tbody>\n",
              "</table>\n",
              "</div>"
            ],
            "text/plain": [
              "  subreddit  ...                                               body\n",
              "0    gaming  ...  Wheres more co-op games like Army of Two? I'm ...\n",
              "1    gaming  ...  Haven’t completed a gamed in years. The magic ...\n",
              "2    gaming  ...  Salvaged from rotten cabinet, good memories ti...\n",
              "3    gaming  ...  My Girlfriend is streaming Mobile Legends! Her...\n",
              "4    gaming  ...  arcade games anyone know where i can purchase ...\n",
              "\n",
              "[5 rows x 4 columns]"
            ]
          },
          "metadata": {
            "tags": []
          },
          "execution_count": 20
        }
      ]
    },
    {
      "cell_type": "code",
      "metadata": {
        "id": "jrUqQURIwkqk",
        "colab_type": "code",
        "colab": {}
      },
      "source": [
        "posts_corpus_df = posts_df.drop(['title', 'selftext'], axis=1)"
      ],
      "execution_count": 0,
      "outputs": []
    },
    {
      "cell_type": "code",
      "metadata": {
        "id": "6jUOZUYuwt1X",
        "colab_type": "code",
        "outputId": "3852e24c-6970-4917-8062-900fc697f16c",
        "colab": {
          "base_uri": "https://localhost:8080/",
          "height": 204
        }
      },
      "source": [
        "posts_corpus_df.tail()"
      ],
      "execution_count": 0,
      "outputs": [
        {
          "output_type": "execute_result",
          "data": {
            "text/html": [
              "<div>\n",
              "<style scoped>\n",
              "    .dataframe tbody tr th:only-of-type {\n",
              "        vertical-align: middle;\n",
              "    }\n",
              "\n",
              "    .dataframe tbody tr th {\n",
              "        vertical-align: top;\n",
              "    }\n",
              "\n",
              "    .dataframe thead th {\n",
              "        text-align: right;\n",
              "    }\n",
              "</style>\n",
              "<table border=\"1\" class=\"dataframe\">\n",
              "  <thead>\n",
              "    <tr style=\"text-align: right;\">\n",
              "      <th></th>\n",
              "      <th>subreddit</th>\n",
              "      <th>body</th>\n",
              "    </tr>\n",
              "  </thead>\n",
              "  <tbody>\n",
              "    <tr>\n",
              "      <th>10383</th>\n",
              "      <td>aww</td>\n",
              "      <td>Dog attempts to get their bed back from the ca...</td>\n",
              "    </tr>\n",
              "    <tr>\n",
              "      <th>10384</th>\n",
              "      <td>aww</td>\n",
              "      <td>R/AWW OFFICIAL DISCORD!!! JOIN NOW! [Join here...</td>\n",
              "    </tr>\n",
              "    <tr>\n",
              "      <th>10385</th>\n",
              "      <td>aww</td>\n",
              "      <td>He knows he's the goodest boy [ Removed by red...</td>\n",
              "    </tr>\n",
              "    <tr>\n",
              "      <th>10386</th>\n",
              "      <td>aww</td>\n",
              "      <td>A collection of all the different animal posts...</td>\n",
              "    </tr>\n",
              "    <tr>\n",
              "      <th>10387</th>\n",
              "      <td>aww</td>\n",
              "      <td>Bestof /r/Aww 2017 Awards Thread! nominations ...</td>\n",
              "    </tr>\n",
              "  </tbody>\n",
              "</table>\n",
              "</div>"
            ],
            "text/plain": [
              "      subreddit                                               body\n",
              "10383       aww  Dog attempts to get their bed back from the ca...\n",
              "10384       aww  R/AWW OFFICIAL DISCORD!!! JOIN NOW! [Join here...\n",
              "10385       aww  He knows he's the goodest boy [ Removed by red...\n",
              "10386       aww  A collection of all the different animal posts...\n",
              "10387       aww  Bestof /r/Aww 2017 Awards Thread! nominations ..."
            ]
          },
          "metadata": {
            "tags": []
          },
          "execution_count": 24
        }
      ]
    },
    {
      "cell_type": "code",
      "metadata": {
        "id": "sw2BOutUwxBW",
        "colab_type": "code",
        "outputId": "a8595281-0d17-4ec4-a366-55c640be0154",
        "colab": {
          "base_uri": "https://localhost:8080/",
          "height": 51
        }
      },
      "source": [
        "posts_corpus_df['subreddit'].unique()"
      ],
      "execution_count": 0,
      "outputs": [
        {
          "output_type": "execute_result",
          "data": {
            "text/plain": [
              "array(['gaming', 'movies', 'nba', 'Fitness', 'atheism', 'europe',\n",
              "       'politics', 'science', 'technology', 'aww'], dtype=object)"
            ]
          },
          "metadata": {
            "tags": []
          },
          "execution_count": 25
        }
      ]
    },
    {
      "cell_type": "markdown",
      "metadata": {
        "id": "4TYH4Y5exbwN",
        "colab_type": "text"
      },
      "source": [
        "### Unifing comments and posts"
      ]
    },
    {
      "cell_type": "code",
      "metadata": {
        "id": "-u05TdhSxWuc",
        "colab_type": "code",
        "colab": {}
      },
      "source": [
        "comments_posts_df = pd.concat([comments_df, posts_corpus_df], axis=0, ignore_index=True)"
      ],
      "execution_count": 0,
      "outputs": []
    },
    {
      "cell_type": "code",
      "metadata": {
        "id": "k8sUlL4Kxp4s",
        "colab_type": "code",
        "outputId": "f4c91023-53ef-422a-847d-567e192897f3",
        "colab": {
          "base_uri": "https://localhost:8080/",
          "height": 204
        }
      },
      "source": [
        "comments_posts_df.head()"
      ],
      "execution_count": 0,
      "outputs": [
        {
          "output_type": "execute_result",
          "data": {
            "text/html": [
              "<div>\n",
              "<style scoped>\n",
              "    .dataframe tbody tr th:only-of-type {\n",
              "        vertical-align: middle;\n",
              "    }\n",
              "\n",
              "    .dataframe tbody tr th {\n",
              "        vertical-align: top;\n",
              "    }\n",
              "\n",
              "    .dataframe thead th {\n",
              "        text-align: right;\n",
              "    }\n",
              "</style>\n",
              "<table border=\"1\" class=\"dataframe\">\n",
              "  <thead>\n",
              "    <tr style=\"text-align: right;\">\n",
              "      <th></th>\n",
              "      <th>subreddit</th>\n",
              "      <th>body</th>\n",
              "    </tr>\n",
              "  </thead>\n",
              "  <tbody>\n",
              "    <tr>\n",
              "      <th>0</th>\n",
              "      <td>gaming</td>\n",
              "      <td>Honestly, he should share the height with the ...</td>\n",
              "    </tr>\n",
              "    <tr>\n",
              "      <th>1</th>\n",
              "      <td>gaming</td>\n",
              "      <td>I'm not sure what's funnier, the way you inter...</td>\n",
              "    </tr>\n",
              "    <tr>\n",
              "      <th>2</th>\n",
              "      <td>gaming</td>\n",
              "      <td>wait..... Quelaag's Furysword scaled with soft...</td>\n",
              "    </tr>\n",
              "    <tr>\n",
              "      <th>3</th>\n",
              "      <td>gaming</td>\n",
              "      <td>What program do you use to make/display the ma...</td>\n",
              "    </tr>\n",
              "    <tr>\n",
              "      <th>4</th>\n",
              "      <td>gaming</td>\n",
              "      <td>CCleaner has turned to shit. Norton makes a to...</td>\n",
              "    </tr>\n",
              "  </tbody>\n",
              "</table>\n",
              "</div>"
            ],
            "text/plain": [
              "  subreddit                                               body\n",
              "0    gaming  Honestly, he should share the height with the ...\n",
              "1    gaming  I'm not sure what's funnier, the way you inter...\n",
              "2    gaming  wait..... Quelaag's Furysword scaled with soft...\n",
              "3    gaming  What program do you use to make/display the ma...\n",
              "4    gaming  CCleaner has turned to shit. Norton makes a to..."
            ]
          },
          "metadata": {
            "tags": []
          },
          "execution_count": 27
        }
      ]
    },
    {
      "cell_type": "code",
      "metadata": {
        "id": "nzLCEXevxssu",
        "colab_type": "code",
        "outputId": "62fe842d-a4b7-477b-cfb1-67e66bce344b",
        "colab": {
          "base_uri": "https://localhost:8080/",
          "height": 34
        }
      },
      "source": [
        "comments_posts_df.shape"
      ],
      "execution_count": 0,
      "outputs": [
        {
          "output_type": "execute_result",
          "data": {
            "text/plain": [
              "(1546818, 2)"
            ]
          },
          "metadata": {
            "tags": []
          },
          "execution_count": 28
        }
      ]
    },
    {
      "cell_type": "code",
      "metadata": {
        "id": "mXWj-qxixvmm",
        "colab_type": "code",
        "outputId": "fe5a6eea-25bf-4528-b6cd-fa5bbcd7d2f4",
        "colab": {
          "base_uri": "https://localhost:8080/",
          "height": 173
        }
      },
      "source": [
        "comments_posts_df.describe()"
      ],
      "execution_count": 0,
      "outputs": [
        {
          "output_type": "execute_result",
          "data": {
            "text/html": [
              "<div>\n",
              "<style scoped>\n",
              "    .dataframe tbody tr th:only-of-type {\n",
              "        vertical-align: middle;\n",
              "    }\n",
              "\n",
              "    .dataframe tbody tr th {\n",
              "        vertical-align: top;\n",
              "    }\n",
              "\n",
              "    .dataframe thead th {\n",
              "        text-align: right;\n",
              "    }\n",
              "</style>\n",
              "<table border=\"1\" class=\"dataframe\">\n",
              "  <thead>\n",
              "    <tr style=\"text-align: right;\">\n",
              "      <th></th>\n",
              "      <th>subreddit</th>\n",
              "      <th>body</th>\n",
              "    </tr>\n",
              "  </thead>\n",
              "  <tbody>\n",
              "    <tr>\n",
              "      <th>count</th>\n",
              "      <td>1546818</td>\n",
              "      <td>1546818</td>\n",
              "    </tr>\n",
              "    <tr>\n",
              "      <th>unique</th>\n",
              "      <td>10</td>\n",
              "      <td>1522739</td>\n",
              "    </tr>\n",
              "    <tr>\n",
              "      <th>top</th>\n",
              "      <td>gaming</td>\n",
              "      <td>\\nAs a reminder, this subreddit [is for civil ...</td>\n",
              "    </tr>\n",
              "    <tr>\n",
              "      <th>freq</th>\n",
              "      <td>155224</td>\n",
              "      <td>3468</td>\n",
              "    </tr>\n",
              "  </tbody>\n",
              "</table>\n",
              "</div>"
            ],
            "text/plain": [
              "       subreddit                                               body\n",
              "count    1546818                                            1546818\n",
              "unique        10                                            1522739\n",
              "top       gaming  \\nAs a reminder, this subreddit [is for civil ...\n",
              "freq      155224                                               3468"
            ]
          },
          "metadata": {
            "tags": []
          },
          "execution_count": 29
        }
      ]
    },
    {
      "cell_type": "code",
      "metadata": {
        "id": "ME7RYux7x_ni",
        "colab_type": "code",
        "outputId": "1b7ace48-5ecc-4588-cb07-799d9d7f6acc",
        "colab": {
          "base_uri": "https://localhost:8080/",
          "height": 34
        }
      },
      "source": [
        "comments_posts_df[\"body\"].isna().sum()"
      ],
      "execution_count": 0,
      "outputs": [
        {
          "output_type": "execute_result",
          "data": {
            "text/plain": [
              "0"
            ]
          },
          "metadata": {
            "tags": []
          },
          "execution_count": 30
        }
      ]
    },
    {
      "cell_type": "code",
      "metadata": {
        "id": "3UgaJhJbyFdV",
        "colab_type": "code",
        "colab": {}
      },
      "source": [
        "comments_posts_df.to_pickle('comments_posts.pkl')"
      ],
      "execution_count": 0,
      "outputs": []
    },
    {
      "cell_type": "code",
      "metadata": {
        "id": "uhflJfimy8jt",
        "colab_type": "code",
        "outputId": "f1c2dd9b-7f33-4b9c-a562-a74639f23fe5",
        "colab": {
          "base_uri": "https://localhost:8080/",
          "height": 272
        }
      },
      "source": [
        "!gsutil cp /content/comments_posts.pkl gs://reddit_final_results/"
      ],
      "execution_count": 0,
      "outputs": [
        {
          "output_type": "stream",
          "text": [
            "Copying file:///content/comments_posts.pkl [Content-Type=application/octet-stream]...\n",
            "/ [0 files][    0.0 B/374.5 MiB]                                                \r==> NOTE: You are uploading one or more large file(s), which would run\n",
            "significantly faster if you enable parallel composite uploads. This\n",
            "feature can be enabled by editing the\n",
            "\"parallel_composite_upload_threshold\" value in your .boto\n",
            "configuration file. However, note that if you do this large files will\n",
            "be uploaded as `composite objects\n",
            "<https://cloud.google.com/storage/docs/composite-objects>`_,which\n",
            "means that any user who downloads such objects will need to have a\n",
            "compiled crcmod installed (see \"gsutil help crcmod\"). This is because\n",
            "without a compiled crcmod, computing checksums on composite objects is\n",
            "so slow that gsutil disables downloads of composite objects.\n",
            "\n",
            "/\n",
            "Operation completed over 1 objects/374.5 MiB.                                    \n"
          ],
          "name": "stdout"
        }
      ]
    }
  ]
}