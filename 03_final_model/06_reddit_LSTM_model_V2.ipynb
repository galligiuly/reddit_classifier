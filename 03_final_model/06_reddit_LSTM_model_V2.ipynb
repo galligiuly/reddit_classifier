{
  "nbformat": 4,
  "nbformat_minor": 0,
  "metadata": {
    "colab": {
      "name": "06_reddit_LSTM_model_V2.ipynb",
      "provenance": [],
      "collapsed_sections": []
    },
    "kernelspec": {
      "name": "python3",
      "display_name": "Python 3"
    },
    "accelerator": "GPU"
  },
  "cells": [
    {
      "cell_type": "markdown",
      "metadata": {
        "id": "yIzuKZlnZEx8",
        "colab_type": "text"
      },
      "source": [
        "# LSTM model\n"
      ]
    },
    {
      "cell_type": "code",
      "metadata": {
        "id": "D_JP1vp7Y-YP",
        "colab_type": "code",
        "outputId": "60e89cf3-c498-40cb-99b1-e245e07a5f26",
        "colab": {
          "base_uri": "https://localhost:8080/",
          "height": 34
        }
      },
      "source": [
        "from google.colab import auth\n",
        "auth.authenticate_user()\n",
        "print('Authenticated')"
      ],
      "execution_count": 20,
      "outputs": [
        {
          "output_type": "stream",
          "text": [
            "Authenticated\n"
          ],
          "name": "stdout"
        }
      ]
    },
    {
      "cell_type": "code",
      "metadata": {
        "id": "HEIDUmxiZcPP",
        "colab_type": "code",
        "outputId": "0b5d59ae-747b-4ef1-c349-5f51028ff1ba",
        "colab": {
          "base_uri": "https://localhost:8080/",
          "height": 207
        }
      },
      "source": [
        "!gcloud auth login"
      ],
      "execution_count": 21,
      "outputs": [
        {
          "output_type": "stream",
          "text": [
            "Go to the following link in your browser:\n",
            "\n",
            "    https://accounts.google.com/o/oauth2/auth?code_challenge=ZMtvcgLJHHd5ENjrNBep0djPzZUSmf9E99JNJEPsf4M&prompt=select_account&code_challenge_method=S256&access_type=offline&redirect_uri=urn%3Aietf%3Awg%3Aoauth%3A2.0%3Aoob&response_type=code&client_id=32555940559.apps.googleusercontent.com&scope=https%3A%2F%2Fwww.googleapis.com%2Fauth%2Fuserinfo.email+https%3A%2F%2Fwww.googleapis.com%2Fauth%2Fcloud-platform+https%3A%2F%2Fwww.googleapis.com%2Fauth%2Fappengine.admin+https%3A%2F%2Fwww.googleapis.com%2Fauth%2Fcompute+https%3A%2F%2Fwww.googleapis.com%2Fauth%2Faccounts.reauth\n",
            "\n",
            "\n",
            "Enter verification code: 4/vwGNvBpitcTYOHRumHohoxCI72HkF0s-etilfGXOt9RjMQKxCt-0EZo\n",
            "\n",
            "You are now logged in as [galli.giuly@gmail.com].\n",
            "Your current project is [None].  You can change this setting by running:\n",
            "  $ gcloud config set project PROJECT_ID\n"
          ],
          "name": "stdout"
        }
      ]
    },
    {
      "cell_type": "code",
      "metadata": {
        "id": "oRaWQxE_ZmRh",
        "colab_type": "code",
        "outputId": "0300960e-e5f4-4d1f-fe4d-8d1d70ece9a1",
        "colab": {
          "base_uri": "https://localhost:8080/",
          "height": 34
        }
      },
      "source": [
        "%env GCLOUD_PROJECT=reddit-master"
      ],
      "execution_count": 22,
      "outputs": [
        {
          "output_type": "stream",
          "text": [
            "env: GCLOUD_PROJECT=reddit-master\n"
          ],
          "name": "stdout"
        }
      ]
    },
    {
      "cell_type": "code",
      "metadata": {
        "id": "2APheCLEZr-S",
        "colab_type": "code",
        "outputId": "caac4dca-f289-47a4-a72f-32a7c46a2189",
        "colab": {
          "base_uri": "https://localhost:8080/",
          "height": 51
        }
      },
      "source": [
        "import numpy as np \n",
        "import pandas as pd\n",
        "import pickle as pkl\n",
        "import matplotlib.pyplot as plt\n",
        "import seaborn as sns\n",
        "sns.set()\n",
        "import re\n",
        "import plotly.graph_objs as go\n",
        "import chart_studio.plotly as py\n",
        "import cufflinks\n",
        "import plotly.figure_factory as ff\n",
        "import logging\n",
        "import nltk\n",
        "nltk.download('stopwords')\n",
        "import keras.backend as K\n",
        "\n",
        "from sklearn.metrics import classification_report, log_loss, accuracy_score, confusion_matrix\n",
        "from keras.preprocessing.text import Tokenizer\n",
        "from keras.preprocessing.sequence import pad_sequences\n",
        "from keras.models import Model\n",
        "from keras.layers import Dense, Embedding, LSTM, SpatialDropout1D, Input\n",
        "from sklearn.model_selection import train_test_split\n",
        "from sklearn.preprocessing import LabelEncoder\n",
        "from keras.utils.np_utils import to_categorical\n",
        "from keras.callbacks import EarlyStopping\n",
        "from keras.layers import Dropout\n",
        "from nltk.corpus import stopwords\n",
        "from nltk import word_tokenize\n",
        "STOPWORDS = set(stopwords.words('english'))\n",
        "from bs4 import BeautifulSoup\n",
        "from plotly.offline import iplot\n",
        "cufflinks.go_offline()\n",
        "cufflinks.set_config_file(world_readable=True, theme='pearl')\n",
        "from tensorflow import metrics, local_variables_initializer\n",
        "from keras.models import load_model"
      ],
      "execution_count": 23,
      "outputs": [
        {
          "output_type": "stream",
          "text": [
            "[nltk_data] Downloading package stopwords to /root/nltk_data...\n",
            "[nltk_data]   Package stopwords is already up-to-date!\n"
          ],
          "name": "stdout"
        },
        {
          "output_type": "display_data",
          "data": {
            "text/html": [
              "        <script type=\"text/javascript\">\n",
              "        window.PlotlyConfig = {MathJaxConfig: 'local'};\n",
              "        if (window.MathJax) {MathJax.Hub.Config({SVG: {font: \"STIX-Web\"}});}\n",
              "        if (typeof require !== 'undefined') {\n",
              "        require.undef(\"plotly\");\n",
              "        requirejs.config({\n",
              "            paths: {\n",
              "                'plotly': ['https://cdn.plot.ly/plotly-latest.min']\n",
              "            }\n",
              "        });\n",
              "        require(['plotly'], function(Plotly) {\n",
              "            window._Plotly = Plotly;\n",
              "        });\n",
              "        }\n",
              "        </script>\n",
              "        "
            ]
          },
          "metadata": {
            "tags": []
          }
        }
      ]
    },
    {
      "cell_type": "code",
      "metadata": {
        "id": "76qG2_RPZyZh",
        "colab_type": "code",
        "outputId": "07ab7ec4-3170-424f-af54-9514ed69a3df",
        "colab": {
          "base_uri": "https://localhost:8080/",
          "height": 68
        }
      },
      "source": [
        "# importing my final ds\n",
        "\n",
        "!gsutil cp gs://reddit_final_results/reddit_clear_df.pkl ."
      ],
      "execution_count": 24,
      "outputs": [
        {
          "output_type": "stream",
          "text": [
            "Copying gs://reddit_final_results/reddit_clear_df.pkl...\n",
            "- [1 files][253.2 MiB/253.2 MiB]                                                \n",
            "Operation completed over 1 objects/253.2 MiB.                                    \n"
          ],
          "name": "stdout"
        }
      ]
    },
    {
      "cell_type": "code",
      "metadata": {
        "id": "yReUyHOcZzVC",
        "colab_type": "code",
        "colab": {}
      },
      "source": [
        "model_LSTM_df = pd.read_pickle('reddit_clear_df.pkl')"
      ],
      "execution_count": 0,
      "outputs": []
    },
    {
      "cell_type": "code",
      "metadata": {
        "id": "Ggwn-whwZ5yo",
        "colab_type": "code",
        "outputId": "a51863a9-9b73-43a3-d2eb-a9ab4fc9937c",
        "colab": {
          "base_uri": "https://localhost:8080/",
          "height": 68
        }
      },
      "source": [
        "# importing my final tokenizer\n",
        "\n",
        "!gsutil cp gs://reddit_models/reddit_tokenizer.pkl ."
      ],
      "execution_count": 26,
      "outputs": [
        {
          "output_type": "stream",
          "text": [
            "Copying gs://reddit_models/reddit_tokenizer.pkl...\n",
            "- [1 files][ 47.0 MiB/ 47.0 MiB]                                                \n",
            "Operation completed over 1 objects/47.0 MiB.                                     \n"
          ],
          "name": "stdout"
        }
      ]
    },
    {
      "cell_type": "code",
      "metadata": {
        "id": "Otymcf72aAjU",
        "colab_type": "code",
        "colab": {}
      },
      "source": [
        "with open('reddit_tokenizer.pkl', 'rb') as file:\n",
        "    tokenizer = pkl.load(file)"
      ],
      "execution_count": 0,
      "outputs": []
    },
    {
      "cell_type": "code",
      "metadata": {
        "id": "XAyofzERx0zv",
        "colab_type": "code",
        "colab": {}
      },
      "source": [
        "labels = model_LSTM_df['subreddit'].unique()"
      ],
      "execution_count": 0,
      "outputs": []
    },
    {
      "cell_type": "code",
      "metadata": {
        "id": "euv96QuFh0cG",
        "colab_type": "code",
        "colab": {
          "base_uri": "https://localhost:8080/",
          "height": 51
        },
        "outputId": "f8d13811-4f97-4b60-d600-a7e486c20ee6"
      },
      "source": [
        "labels"
      ],
      "execution_count": 29,
      "outputs": [
        {
          "output_type": "execute_result",
          "data": {
            "text/plain": [
              "array(['gaming', 'nba', 'europe', 'aww', 'movies', 'technology',\n",
              "       'politics', 'Fitness', 'atheism', 'science'], dtype=object)"
            ]
          },
          "metadata": {
            "tags": []
          },
          "execution_count": 29
        }
      ]
    },
    {
      "cell_type": "markdown",
      "metadata": {
        "id": "5RI_t60fb-kv",
        "colab_type": "text"
      },
      "source": [
        "## Implementing the model"
      ]
    },
    {
      "cell_type": "code",
      "metadata": {
        "id": "kDc75RMbab7x",
        "colab_type": "code",
        "colab": {}
      },
      "source": [
        "MAX_NB_WORDS = 75000\n",
        "MAX_SEQUENCE_LENGTH = 450\n",
        "EMBEDDING_DIM = 100"
      ],
      "execution_count": 0,
      "outputs": []
    },
    {
      "cell_type": "code",
      "metadata": {
        "id": "S2GxIBaPb5Hv",
        "colab_type": "code",
        "outputId": "79eda4b1-d7c7-4f83-ff7d-844a4f8d7d99",
        "colab": {
          "base_uri": "https://localhost:8080/",
          "height": 34
        }
      },
      "source": [
        "X = tokenizer.texts_to_sequences(model_LSTM_df['body'].values)\n",
        "X = pad_sequences(X, maxlen=MAX_SEQUENCE_LENGTH)\n",
        "print('Shape of data tensor:', X.shape)"
      ],
      "execution_count": 31,
      "outputs": [
        {
          "output_type": "stream",
          "text": [
            "Shape of data tensor: (1546818, 450)\n"
          ],
          "name": "stdout"
        }
      ]
    },
    {
      "cell_type": "code",
      "metadata": {
        "id": "x_e_M-dCcE_X",
        "colab_type": "code",
        "outputId": "ae4f3cf8-8226-4b6c-e316-bf767fc058e1",
        "colab": {
          "base_uri": "https://localhost:8080/",
          "height": 34
        }
      },
      "source": [
        "Y = pd.get_dummies(model_LSTM_df['subreddit']).values\n",
        "print('Shape of label tensor:', Y.shape)"
      ],
      "execution_count": 32,
      "outputs": [
        {
          "output_type": "stream",
          "text": [
            "Shape of label tensor: (1546818, 10)\n"
          ],
          "name": "stdout"
        }
      ]
    },
    {
      "cell_type": "code",
      "metadata": {
        "id": "TRAnbuaIcJ9w",
        "colab_type": "code",
        "outputId": "da27f5b6-55b3-4c48-a50d-9d968110527d",
        "colab": {
          "base_uri": "https://localhost:8080/",
          "height": 102
        }
      },
      "source": [
        "%%time\n",
        "\n",
        "def train_dev_test_split(X, y):\n",
        "    X_train, X_val, y_train, y_val = train_test_split(X, y, test_size=0.3, random_state=42, stratify=y)\n",
        "    X_val, X_test, y_val, y_test = train_test_split(X_val, y_val, test_size=0.5, random_state=42, stratify=y_val)\n",
        "    return (X_train,\n",
        "                X_val,\n",
        "                X_test,\n",
        "                y_train,\n",
        "                y_val,\n",
        "                y_test)\n",
        "\n",
        "\n",
        "X_train, X_val, X_test, Y_train, Y_val, Y_test = train_dev_test_split(X,Y)\n",
        "\n",
        "print(X_train.shape,Y_train.shape)\n",
        "print(X_val.shape,Y_val.shape)\n",
        "print(X_test.shape,Y_test.shape)"
      ],
      "execution_count": 33,
      "outputs": [
        {
          "output_type": "stream",
          "text": [
            "(1082772, 450) (1082772, 10)\n",
            "(232023, 450) (232023, 10)\n",
            "(232023, 450) (232023, 10)\n",
            "CPU times: user 20 s, sys: 18.4 s, total: 38.4 s\n",
            "Wall time: 38.5 s\n"
          ],
          "name": "stdout"
        }
      ]
    },
    {
      "cell_type": "markdown",
      "metadata": {
        "id": "qyqd4qswRXnw",
        "colab_type": "text"
      },
      "source": [
        "# Training with metric 'accuracy'"
      ]
    },
    {
      "cell_type": "code",
      "metadata": {
        "id": "UUAoI6pSRXNa",
        "colab_type": "code",
        "outputId": "e2808f20-082f-4b3c-b3e8-513a65b876b5",
        "colab": {
          "base_uri": "https://localhost:8080/",
          "height": 394
        }
      },
      "source": [
        "K.clear_session()\n",
        "\n",
        "# Creating the neural network using Keras' functional api so that\n",
        "# I'm able to inspect each one of the layers later.\n",
        "\n",
        "inpt = Input(shape=(MAX_SEQUENCE_LENGTH,)) \n",
        "emb = Embedding(MAX_NB_WORDS, EMBEDDING_DIM, input_length=X.shape[1])(inpt)\n",
        "dropout = SpatialDropout1D(0.2)(emb)\n",
        "lstm = LSTM(30, dropout=0.2, recurrent_dropout=0.2)(dropout)\n",
        "output = Dense(10, activation='softmax')(lstm)\n",
        "model = Model(inputs =[inpt], outputs=[output])\n",
        "model.compile(loss='categorical_crossentropy', optimizer='adam', metrics=['accuracy'])\n",
        "\n",
        "print(model.summary())"
      ],
      "execution_count": 34,
      "outputs": [
        {
          "output_type": "stream",
          "text": [
            "WARNING:tensorflow:From /usr/local/lib/python3.6/dist-packages/keras/backend/tensorflow_backend.py:107: The name tf.reset_default_graph is deprecated. Please use tf.compat.v1.reset_default_graph instead.\n",
            "\n",
            "Model: \"model_1\"\n",
            "_________________________________________________________________\n",
            "Layer (type)                 Output Shape              Param #   \n",
            "=================================================================\n",
            "input_1 (InputLayer)         (None, 450)               0         \n",
            "_________________________________________________________________\n",
            "embedding_1 (Embedding)      (None, 450, 100)          7500000   \n",
            "_________________________________________________________________\n",
            "spatial_dropout1d_1 (Spatial (None, 450, 100)          0         \n",
            "_________________________________________________________________\n",
            "lstm_1 (LSTM)                (None, 30)                15720     \n",
            "_________________________________________________________________\n",
            "dense_1 (Dense)              (None, 10)                310       \n",
            "=================================================================\n",
            "Total params: 7,516,030\n",
            "Trainable params: 7,516,030\n",
            "Non-trainable params: 0\n",
            "_________________________________________________________________\n",
            "None\n"
          ],
          "name": "stdout"
        }
      ]
    },
    {
      "cell_type": "code",
      "metadata": {
        "id": "dNeeuiGjRXMD",
        "colab_type": "code",
        "outputId": "5a76c9eb-0a67-414d-83b8-eb345674eaf7",
        "colab": {
          "base_uri": "https://localhost:8080/",
          "height": 170
        }
      },
      "source": [
        "%%time\n",
        "\n",
        "epochs = 10\n",
        "batch_size = 150\n",
        "early_stopping = EarlyStopping(\n",
        "    monitor='val_loss',\n",
        "    patience=1,\n",
        "    min_delta=0.01)\n",
        "\n",
        "history = model.fit(\n",
        "    X_train,\n",
        "    Y_train,\n",
        "    epochs=epochs,\n",
        "    batch_size=batch_size,\n",
        "    validation_data=(X_val, Y_val),\n",
        "    callbacks=[early_stopping]\n",
        ")"
      ],
      "execution_count": 0,
      "outputs": [
        {
          "output_type": "stream",
          "text": [
            "Train on 1082772 samples, validate on 232023 samples\n",
            "Epoch 1/10\n",
            "1082772/1082772 [==============================] - 5560s 5ms/step - loss: 1.1229 - acc: 0.6416 - val_loss: 0.9688 - val_acc: 0.6916\n",
            "Epoch 2/10\n",
            "1082772/1082772 [==============================] - 5552s 5ms/step - loss: 0.9272 - acc: 0.7036 - val_loss: 0.9424 - val_acc: 0.6982\n",
            "Epoch 3/10\n",
            "1082772/1082772 [==============================] - 5535s 5ms/step - loss: 0.8700 - acc: 0.7198 - val_loss: 0.9390 - val_acc: 0.6987\n",
            "CPU times: user 6h 29min 16s, sys: 24min 22s, total: 6h 53min 39s\n",
            "Wall time: 4h 37min 27s\n"
          ],
          "name": "stdout"
        }
      ]
    },
    {
      "cell_type": "code",
      "metadata": {
        "id": "iKIq7h9tRXK-",
        "colab_type": "code",
        "colab": {}
      },
      "source": [
        "model.save('accuracy_model_lstm_30_batchsize_150_10_subreddits.h5')"
      ],
      "execution_count": 0,
      "outputs": []
    },
    {
      "cell_type": "code",
      "metadata": {
        "id": "DUjVs3WkRXJS",
        "colab_type": "code",
        "outputId": "30175a4c-f0f6-4e52-8f51-f97619242e40",
        "colab": {
          "base_uri": "https://localhost:8080/",
          "height": 68
        }
      },
      "source": [
        "!gsutil cp accuracy_model_lstm_30_batchsize_150_10_subreddits.h5 gs://reddit_models"
      ],
      "execution_count": 0,
      "outputs": [
        {
          "output_type": "stream",
          "text": [
            "Copying file://accuracy_model_lstm_30_batchsize_150_10_subreddits.h5 [Content-Type=application/octet-stream]...\n",
            "\\\n",
            "Operation completed over 1 objects/86.0 MiB.                                     \n"
          ],
          "name": "stdout"
        }
      ]
    },
    {
      "cell_type": "code",
      "metadata": {
        "id": "BZvnMCXPRXTN",
        "colab_type": "code",
        "outputId": "bf153a59-663b-45b7-d2d2-591a5b849b70",
        "colab": {
          "base_uri": "https://localhost:8080/",
          "height": 68
        }
      },
      "source": [
        "# downloading the model\n",
        "\n",
        "!gsutil cp gs://reddit_models/accuracy_model_lstm_30_batchsize_150_10_subreddits.h5 ."
      ],
      "execution_count": 35,
      "outputs": [
        {
          "output_type": "stream",
          "text": [
            "Copying gs://reddit_models/accuracy_model_lstm_30_batchsize_150_10_subreddits.h5...\n",
            "\\ [1 files][ 86.0 MiB/ 86.0 MiB]                                                \n",
            "Operation completed over 1 objects/86.0 MiB.                                     \n"
          ],
          "name": "stdout"
        }
      ]
    },
    {
      "cell_type": "code",
      "metadata": {
        "id": "ItXQ17zfRXPo",
        "colab_type": "code",
        "colab": {}
      },
      "source": [
        "model = load_model(\"accuracy_model_lstm_30_batchsize_150_10_subreddits.h5\")"
      ],
      "execution_count": 0,
      "outputs": []
    },
    {
      "cell_type": "code",
      "metadata": {
        "id": "sgcRcOQ6RXEU",
        "colab_type": "code",
        "outputId": "428a67f2-0d1e-46c7-efa0-f6df1baecf5b",
        "colab": {
          "base_uri": "https://localhost:8080/",
          "height": 119
        }
      },
      "source": [
        "%time\n",
        "\n",
        "result = model.evaluate(X_test,Y_test)\n",
        "print('Test set\\n  Loss: {:0.3f}\\n  Accuracy: {:0.3f}'.format(result[0],result[1]))"
      ],
      "execution_count": 53,
      "outputs": [
        {
          "output_type": "stream",
          "text": [
            "CPU times: user 4 µs, sys: 0 ns, total: 4 µs\n",
            "Wall time: 8.58 µs\n",
            "232023/232023 [==============================] - 2221s 10ms/step\n",
            "Test set\n",
            "  Loss: 0.941\n",
            "  Accuracy: 0.698\n"
          ],
          "name": "stdout"
        }
      ]
    },
    {
      "cell_type": "code",
      "metadata": {
        "id": "ax7FZ307vU3N",
        "colab_type": "code",
        "colab": {}
      },
      "source": [
        "predictions = model.predict(X_test)"
      ],
      "execution_count": 0,
      "outputs": []
    },
    {
      "cell_type": "code",
      "metadata": {
        "id": "2E_HRHCpTnCj",
        "colab_type": "code",
        "colab": {
          "base_uri": "https://localhost:8080/",
          "height": 238
        },
        "outputId": "cd7c31cf-c5b3-4fdc-9b7d-546c53d7b40d"
      },
      "source": [
        "predictions"
      ],
      "execution_count": 38,
      "outputs": [
        {
          "output_type": "execute_result",
          "data": {
            "text/plain": [
              "array([[4.12037317e-03, 3.07507329e-02, 3.35775912e-01, ...,\n",
              "        4.45852764e-02, 4.44656238e-03, 7.39508774e-03],\n",
              "       [3.37766088e-03, 1.15337044e-01, 5.00432122e-03, ...,\n",
              "        3.20728645e-02, 1.85944773e-02, 1.09391231e-02],\n",
              "       [1.45850517e-02, 5.03364205e-03, 2.67121494e-02, ...,\n",
              "        2.03826651e-02, 5.56175001e-02, 2.90672872e-02],\n",
              "       ...,\n",
              "       [2.04406516e-03, 2.65429355e-03, 1.88630987e-02, ...,\n",
              "        7.64956921e-02, 2.09458899e-02, 3.02390754e-01],\n",
              "       [5.37829532e-04, 8.39697837e-04, 1.00572791e-03, ...,\n",
              "        9.21291474e-04, 8.25681636e-05, 2.98280589e-04],\n",
              "       [2.02734186e-03, 1.36381686e-01, 6.18974539e-03, ...,\n",
              "        1.83902532e-01, 1.39610153e-02, 5.75380385e-01]], dtype=float32)"
            ]
          },
          "metadata": {
            "tags": []
          },
          "execution_count": 38
        }
      ]
    },
    {
      "cell_type": "code",
      "metadata": {
        "id": "in0Vn3qBXvly",
        "colab_type": "code",
        "colab": {
          "base_uri": "https://localhost:8080/",
          "height": 136
        },
        "outputId": "a52f257c-d7d4-4b86-e534-f3ac0d4f1e0d"
      },
      "source": [
        "Y_test"
      ],
      "execution_count": 39,
      "outputs": [
        {
          "output_type": "execute_result",
          "data": {
            "text/plain": [
              "array([[0, 0, 1, ..., 0, 0, 0],\n",
              "       [0, 0, 0, ..., 0, 0, 0],\n",
              "       [0, 0, 0, ..., 0, 0, 0],\n",
              "       ...,\n",
              "       [0, 0, 0, ..., 0, 0, 0],\n",
              "       [0, 0, 0, ..., 0, 0, 0],\n",
              "       [0, 0, 0, ..., 1, 0, 0]], dtype=uint8)"
            ]
          },
          "metadata": {
            "tags": []
          },
          "execution_count": 39
        }
      ]
    },
    {
      "cell_type": "code",
      "metadata": {
        "id": "uuJco8PlWf98",
        "colab_type": "code",
        "colab": {
          "base_uri": "https://localhost:8080/",
          "height": 136
        },
        "outputId": "3cf69ed2-ec4d-4096-ab0d-fe18c5c24b7a"
      },
      "source": [
        "indices = np.argmax(predictions, axis=1)\n",
        "predictions_oho = np.zeros((indices.size, indices.max()+1))\n",
        "predictions_oho[np.arange(indices.size),indices] = 1\n",
        "\n",
        "predictions_oho"
      ],
      "execution_count": 40,
      "outputs": [
        {
          "output_type": "execute_result",
          "data": {
            "text/plain": [
              "array([[0., 0., 1., ..., 0., 0., 0.],\n",
              "       [0., 0., 0., ..., 0., 0., 0.],\n",
              "       [0., 0., 0., ..., 0., 0., 0.],\n",
              "       ...,\n",
              "       [0., 0., 0., ..., 0., 0., 0.],\n",
              "       [0., 0., 0., ..., 0., 0., 0.],\n",
              "       [0., 0., 0., ..., 0., 0., 1.]])"
            ]
          },
          "metadata": {
            "tags": []
          },
          "execution_count": 40
        }
      ]
    },
    {
      "cell_type": "code",
      "metadata": {
        "id": "uvga539zItVq",
        "colab_type": "code",
        "colab": {
          "base_uri": "https://localhost:8080/",
          "height": 323
        },
        "outputId": "8cda0b90-79ae-4292-de35-966ad8232f25"
      },
      "source": [
        "print(classification_report(Y_test, predictions_oho, target_names=labels))"
      ],
      "execution_count": 41,
      "outputs": [
        {
          "output_type": "stream",
          "text": [
            "              precision    recall  f1-score   support\n",
            "\n",
            "      gaming       0.85      0.88      0.86     23283\n",
            "         nba       0.66      0.66      0.66     23284\n",
            "      europe       0.68      0.73      0.71     23048\n",
            "         aww       0.69      0.69      0.69     23284\n",
            "      movies       0.68      0.65      0.67     23284\n",
            "  technology       0.75      0.71      0.73     23284\n",
            "    politics       0.81      0.82      0.81     23284\n",
            "     Fitness       0.62      0.64      0.63     23128\n",
            "     atheism       0.61      0.62      0.61     23062\n",
            "     science       0.63      0.58      0.61     23082\n",
            "\n",
            "   micro avg       0.70      0.70      0.70    232023\n",
            "   macro avg       0.70      0.70      0.70    232023\n",
            "weighted avg       0.70      0.70      0.70    232023\n",
            " samples avg       0.70      0.70      0.70    232023\n",
            "\n"
          ],
          "name": "stdout"
        }
      ]
    },
    {
      "cell_type": "markdown",
      "metadata": {
        "id": "Ft5fvVxbS_RX",
        "colab_type": "text"
      },
      "source": [
        "# Visualization"
      ]
    },
    {
      "cell_type": "code",
      "metadata": {
        "id": "tRuyKWuUS_1H",
        "colab_type": "code",
        "colab": {}
      },
      "source": [
        "conf = confusion_matrix(Y_test.argmax(axis=1), predictions.argmax(axis=1))"
      ],
      "execution_count": 0,
      "outputs": []
    },
    {
      "cell_type": "code",
      "metadata": {
        "id": "fKpeFen2T9FP",
        "colab_type": "code",
        "colab": {
          "base_uri": "https://localhost:8080/",
          "height": 883
        },
        "outputId": "c2c2d7bf-ae6c-4905-a02c-6f790367fb04"
      },
      "source": [
        "import matplotlib.pyplot as plt\n",
        "import seaborn as sns\n",
        "sns.set()\n",
        "\n",
        "plt.figure(figsize =(20, 15))\n",
        "\n",
        "sns.heatmap(conf, annot=True, linewidths=0.1, fmt='d', xticklabels=labels, yticklabels=labels)"
      ],
      "execution_count": 52,
      "outputs": [
        {
          "output_type": "execute_result",
          "data": {
            "text/plain": [
              "<matplotlib.axes._subplots.AxesSubplot at 0x7faaefabddd8>"
            ]
          },
          "metadata": {
            "tags": []
          },
          "execution_count": 52
        },
        {
          "output_type": "display_data",
          "data": {
            "image/png": "[encoded data removed]",
            "text/plain": [
              "<Figure size 1440x1080 with 2 Axes>"
            ]
          },
          "metadata": {
            "tags": []
          }
        }
      ]
    },
    {
      "cell_type": "markdown",
      "metadata": {
        "id": "3zHqOWRLxC2p",
        "colab_type": "text"
      },
      "source": [
        "# Testing on production"
      ]
    },
    {
      "cell_type": "code",
      "metadata": {
        "id": "Up4VThdhvDki",
        "colab_type": "code",
        "colab": {}
      },
      "source": [
        "def label_decoder(subreddit):\n",
        "    dict_labels = {\n",
        "        0:\"Fitness\",\n",
        "        1:\"atheism\",\n",
        "        2:\"aww\",\n",
        "        3:\"europe\",\n",
        "        4:\"gaming\",\n",
        "        5:\"movies\",\n",
        "        6:\"nba\",\n",
        "        7:\"politics\",\n",
        "        8:\"science\",\n",
        "        9:\"technology\"\n",
        "    }\n",
        "    \n",
        "    return dict_labels[subreddit]"
      ],
      "execution_count": 0,
      "outputs": []
    },
    {
      "cell_type": "code",
      "metadata": {
        "id": "w7Ea5aNor-wF",
        "colab_type": "code",
        "outputId": "5bc3e72f-ab27-4b7d-932b-c6dc2007181e",
        "colab": {
          "base_uri": "https://localhost:8080/",
          "height": 88
        }
      },
      "source": [
        "text = input(\"Please, enter the text of your blog: \") \n",
        "print(\"\")\n",
        "print(\"Text correctly entered, I'll give you that subreddit in a minute\")"
      ],
      "execution_count": 86,
      "outputs": [
        {
          "output_type": "stream",
          "text": [
            "Please, enter the text of your blog: The Laboratory for Molecular Biology (LMB), clad in glass the color of sea ice, rises like a futuristic factory above the rapeseed fields of Cambridge, U.K. It is the crown jewel of the U.K. Medical Research Council, a storied government lab that has garnered more than a dozen Nobel Prizes. One of the first came in 1962 after LMB researchers, having pioneered x-ray crystallography, used the technique to decipher the first atomic structures for proteins—those of myoglobin and hemoglobin, which carry oxygen in muscle tissue and blood. X-ray crystallography has dominated structural biology ever since, but it has an Achilles’ heel: Some proteins just can’t be coaxed to form crystals, which scatter x-rays to reveal structure.\n",
            "\n",
            "Text correctly entered, I'll give you that subreddit in a minute\n"
          ],
          "name": "stdout"
        }
      ]
    },
    {
      "cell_type": "code",
      "metadata": {
        "id": "xJEdzFrfvLO4",
        "colab_type": "code",
        "outputId": "1544314e-01b9-448a-82d0-4e732a514c42",
        "colab": {
          "base_uri": "https://localhost:8080/",
          "height": 34
        }
      },
      "source": [
        "MAX_NB_WORDS = 75000\n",
        "MAX_SEQUENCE_LENGTH = 450\n",
        "EMBEDDING_DIM = 100\n",
        "\n",
        "X = tokenizer.texts_to_sequences([text])\n",
        "X = pad_sequences(X, maxlen=MAX_SEQUENCE_LENGTH)\n",
        "print('Shape of data tensor:', X.shape)"
      ],
      "execution_count": 87,
      "outputs": [
        {
          "output_type": "stream",
          "text": [
            "Shape of data tensor: (1, 450)\n"
          ],
          "name": "stdout"
        }
      ]
    },
    {
      "cell_type": "code",
      "metadata": {
        "id": "q0S6eE5Dr-tR",
        "colab_type": "code",
        "outputId": "496b3c57-bd05-4fe7-9468-f7ada502a0f6",
        "colab": {
          "base_uri": "https://localhost:8080/",
          "height": 34
        }
      },
      "source": [
        "result = model.predict(X)\n",
        "\n",
        "def convert_to_cat(arr):\n",
        "    biggest = 0\n",
        "    for x in range(0, len(arr)):\n",
        "        if arr[x] > arr[biggest]:\n",
        "            biggest = x\n",
        "    return biggest\n",
        "\n",
        "category = [label_decoder(convert_to_cat(x)) for x in result]\n",
        "\n",
        "print(\"you should publish your text into the sureddit: \", category)"
      ],
      "execution_count": 88,
      "outputs": [
        {
          "output_type": "stream",
          "text": [
            "you should publish your text into the sureddit:  ['science']\n"
          ],
          "name": "stdout"
        }
      ]
    }
  ]
}