{
  "nbformat": 4,
  "nbformat_minor": 0,
  "metadata": {
    "colab": {
      "name": "05-reddit_pre-processing.ipynb",
      "provenance": [],
      "collapsed_sections": []
    },
    "kernelspec": {
      "name": "python3",
      "display_name": "Python 3"
    },
    "accelerator": "GPU"
  },
  "cells": [
    {
      "cell_type": "markdown",
      "metadata": {
        "id": "dGCc_PKjWMpl",
        "colab_type": "text"
      },
      "source": [
        "# Pre processing"
      ]
    },
    {
      "cell_type": "code",
      "metadata": {
        "id": "i9aTzSNVU87C",
        "colab_type": "code",
        "outputId": "757ee28e-bf8f-4c43-a9a6-12c9cba0bd31",
        "colab": {
          "base_uri": "https://localhost:8080/",
          "height": 34
        }
      },
      "source": [
        "from google.colab import auth\n",
        "auth.authenticate_user()\n",
        "print('Authenticated')"
      ],
      "execution_count": 0,
      "outputs": [
        {
          "output_type": "stream",
          "text": [
            "Authenticated\n"
          ],
          "name": "stdout"
        }
      ]
    },
    {
      "cell_type": "code",
      "metadata": {
        "id": "DdMxbJ1UWdC-",
        "colab_type": "code",
        "outputId": "9f6f53a6-36b2-4124-a26c-d796e134c40c",
        "colab": {
          "base_uri": "https://localhost:8080/",
          "height": 258
        }
      },
      "source": [
        "!gcloud auth login"
      ],
      "execution_count": 0,
      "outputs": [
        {
          "output_type": "stream",
          "text": [
            "Go to the following link in your browser:\n",
            "\n",
            "    https://accounts.google.com/o/oauth2/auth?code_challenge=Ukw9SGsA7IP-L90kx9yBq5Zfa5qFtZzmlRMWuYPQufE&prompt=select_account&code_challenge_method=S256&access_type=offline&redirect_uri=urn%3Aietf%3Awg%3Aoauth%3A2.0%3Aoob&response_type=code&client_id=32555940559.apps.googleusercontent.com&scope=https%3A%2F%2Fwww.googleapis.com%2Fauth%2Fuserinfo.email+https%3A%2F%2Fwww.googleapis.com%2Fauth%2Fcloud-platform+https%3A%2F%2Fwww.googleapis.com%2Fauth%2Fappengine.admin+https%3A%2F%2Fwww.googleapis.com%2Fauth%2Fcompute+https%3A%2F%2Fwww.googleapis.com%2Fauth%2Faccounts.reauth\n",
            "\n",
            "\n",
            "Enter verification code: 4/ugHZMstU7-sVN2X5rLB8kRuahTxp34_4B3xATRxJhJl2KIBfgv7M4Fw\n",
            "\u001b[1;33mWARNING:\u001b[0m `gcloud auth login` no longer writes application default credentials.\n",
            "If you need to use ADC, see:\n",
            "  gcloud auth application-default --help\n",
            "\n",
            "You are now logged in as [galli.giuly@gmail.com].\n",
            "Your current project is [None].  You can change this setting by running:\n",
            "  $ gcloud config set project PROJECT_ID\n"
          ],
          "name": "stdout"
        }
      ]
    },
    {
      "cell_type": "code",
      "metadata": {
        "id": "1rubi3r8Wc_6",
        "colab_type": "code",
        "outputId": "784fc73a-bc7d-497c-af26-2a8283f940d7",
        "colab": {
          "base_uri": "https://localhost:8080/",
          "height": 34
        }
      },
      "source": [
        "%env GCLOUD_PROJECT=reddit-master"
      ],
      "execution_count": 0,
      "outputs": [
        {
          "output_type": "stream",
          "text": [
            "env: GCLOUD_PROJECT=reddit-master\n"
          ],
          "name": "stdout"
        }
      ]
    },
    {
      "cell_type": "markdown",
      "metadata": {
        "id": "dXxBLQYk0ybz",
        "colab_type": "text"
      },
      "source": [
        "## Standardization "
      ]
    },
    {
      "cell_type": "code",
      "metadata": {
        "id": "xL1cKM_YXG3v",
        "colab_type": "code",
        "colab": {}
      },
      "source": [
        "import pandas as pd\n",
        "import pickle \n",
        "\n",
        "from keras.preprocessing.text import Tokenizer\n",
        "from sklearn import preprocessing\n",
        "from nltk import word_tokenize\n"
      ],
      "execution_count": 0,
      "outputs": []
    },
    {
      "cell_type": "code",
      "metadata": {
        "id": "k8UHO4ySW4CR",
        "colab_type": "code",
        "outputId": "42fddf80-b3ab-40f1-e3ff-401f8157dde8",
        "colab": {
          "base_uri": "https://localhost:8080/",
          "height": 68
        }
      },
      "source": [
        "# importing my final ds\n",
        "\n",
        "!gsutil cp gs://reddit_final_results/reddit_clear_df.pkl ."
      ],
      "execution_count": 0,
      "outputs": [
        {
          "output_type": "stream",
          "text": [
            "Copying gs://reddit_final_results/reddit_clear_df.pkl...\n",
            "- [1 files][253.2 MiB/253.2 MiB]                                                \n",
            "Operation completed over 1 objects/253.2 MiB.                                    \n"
          ],
          "name": "stdout"
        }
      ]
    },
    {
      "cell_type": "code",
      "metadata": {
        "id": "0TFD99xVW36O",
        "colab_type": "code",
        "colab": {}
      },
      "source": [
        "reddit_clear_df = pd.read_pickle('reddit_clear_df.pkl')"
      ],
      "execution_count": 0,
      "outputs": []
    },
    {
      "cell_type": "markdown",
      "metadata": {
        "id": "xD2f2KDN1EHP",
        "colab_type": "text"
      },
      "source": [
        "\n",
        "### Encoding the label"
      ]
    },
    {
      "cell_type": "code",
      "metadata": {
        "id": "W-8qbXmC1Dv3",
        "colab_type": "code",
        "colab": {}
      },
      "source": [
        "# Encode of the label as subreddit_it\n",
        "\n",
        "reddit_clear_df['subreddit_id'] = reddit_clear_df['subreddit']"
      ],
      "execution_count": 0,
      "outputs": []
    },
    {
      "cell_type": "code",
      "metadata": {
        "id": "ntUj2TVf0pMz",
        "colab_type": "code",
        "outputId": "a7fe83c7-4f3b-494f-fb6d-3ad8ad9d6782",
        "colab": {
          "base_uri": "https://localhost:8080/",
          "height": 204
        }
      },
      "source": [
        "reddit_clear_df.head(5)"
      ],
      "execution_count": 0,
      "outputs": [
        {
          "output_type": "execute_result",
          "data": {
            "text/html": [
              "<div>\n",
              "<style scoped>\n",
              "    .dataframe tbody tr th:only-of-type {\n",
              "        vertical-align: middle;\n",
              "    }\n",
              "\n",
              "    .dataframe tbody tr th {\n",
              "        vertical-align: top;\n",
              "    }\n",
              "\n",
              "    .dataframe thead th {\n",
              "        text-align: right;\n",
              "    }\n",
              "</style>\n",
              "<table border=\"1\" class=\"dataframe\">\n",
              "  <thead>\n",
              "    <tr style=\"text-align: right;\">\n",
              "      <th></th>\n",
              "      <th>subreddit</th>\n",
              "      <th>body</th>\n",
              "      <th>subreddit_id</th>\n",
              "    </tr>\n",
              "  </thead>\n",
              "  <tbody>\n",
              "    <tr>\n",
              "      <th>0</th>\n",
              "      <td>gaming</td>\n",
              "      <td>honestly share height rest shorties</td>\n",
              "      <td>gaming</td>\n",
              "    </tr>\n",
              "    <tr>\n",
              "      <th>1</th>\n",
              "      <td>gaming</td>\n",
              "      <td>im sure whats funnier way interpreted said act...</td>\n",
              "      <td>gaming</td>\n",
              "    </tr>\n",
              "    <tr>\n",
              "      <th>2</th>\n",
              "      <td>gaming</td>\n",
              "      <td>wait quelaags furysword scaled soft humanity t...</td>\n",
              "      <td>gaming</td>\n",
              "    </tr>\n",
              "    <tr>\n",
              "      <th>3</th>\n",
              "      <td>gaming</td>\n",
              "      <td>program use make display maps something simila...</td>\n",
              "      <td>gaming</td>\n",
              "    </tr>\n",
              "    <tr>\n",
              "      <th>4</th>\n",
              "      <td>gaming</td>\n",
              "      <td>ccleaner turned shit norton makes tool uninsta...</td>\n",
              "      <td>gaming</td>\n",
              "    </tr>\n",
              "  </tbody>\n",
              "</table>\n",
              "</div>"
            ],
            "text/plain": [
              "  subreddit                                               body subreddit_id\n",
              "0    gaming                honestly share height rest shorties       gaming\n",
              "1    gaming  im sure whats funnier way interpreted said act...       gaming\n",
              "2    gaming  wait quelaags furysword scaled soft humanity t...       gaming\n",
              "3    gaming  program use make display maps something simila...       gaming\n",
              "4    gaming  ccleaner turned shit norton makes tool uninsta...       gaming"
            ]
          },
          "metadata": {
            "tags": []
          },
          "execution_count": 10
        }
      ]
    },
    {
      "cell_type": "code",
      "metadata": {
        "id": "Zg97VSUj1T6-",
        "colab_type": "code",
        "colab": {}
      },
      "source": [
        "le = preprocessing.LabelEncoder()"
      ],
      "execution_count": 0,
      "outputs": []
    },
    {
      "cell_type": "code",
      "metadata": {
        "id": "tICW2CjZ1oKc",
        "colab_type": "code",
        "outputId": "df04a832-e2c1-43ae-9317-c09d85ebca1e",
        "colab": {
          "base_uri": "https://localhost:8080/",
          "height": 34
        }
      },
      "source": [
        "le.fit(reddit_clear_df['subreddit'])"
      ],
      "execution_count": 0,
      "outputs": [
        {
          "output_type": "execute_result",
          "data": {
            "text/plain": [
              "LabelEncoder()"
            ]
          },
          "metadata": {
            "tags": []
          },
          "execution_count": 13
        }
      ]
    },
    {
      "cell_type": "code",
      "metadata": {
        "id": "lcISKw6w1qgP",
        "colab_type": "code",
        "outputId": "59464c09-cf6d-478e-d565-77c63881a2b5",
        "colab": {
          "base_uri": "https://localhost:8080/",
          "height": 187
        }
      },
      "source": [
        "list(le.classes_)"
      ],
      "execution_count": 0,
      "outputs": [
        {
          "output_type": "execute_result",
          "data": {
            "text/plain": [
              "['Fitness',\n",
              " 'atheism',\n",
              " 'aww',\n",
              " 'europe',\n",
              " 'gaming',\n",
              " 'movies',\n",
              " 'nba',\n",
              " 'politics',\n",
              " 'science',\n",
              " 'technology']"
            ]
          },
          "metadata": {
            "tags": []
          },
          "execution_count": 14
        }
      ]
    },
    {
      "cell_type": "code",
      "metadata": {
        "id": "GnFwpzVe1sP0",
        "colab_type": "code",
        "colab": {}
      },
      "source": [
        "reddit_clear_df['subreddit_id'] = le.transform(reddit_clear_df['subreddit']) "
      ],
      "execution_count": 0,
      "outputs": []
    },
    {
      "cell_type": "code",
      "metadata": {
        "id": "drXhM70f1wMD",
        "colab_type": "code",
        "outputId": "03b86c79-234f-483f-b645-8ef7822c8937",
        "colab": {
          "base_uri": "https://localhost:8080/",
          "height": 204
        }
      },
      "source": [
        "reddit_clear_df.head()"
      ],
      "execution_count": 0,
      "outputs": [
        {
          "output_type": "execute_result",
          "data": {
            "text/html": [
              "<div>\n",
              "<style scoped>\n",
              "    .dataframe tbody tr th:only-of-type {\n",
              "        vertical-align: middle;\n",
              "    }\n",
              "\n",
              "    .dataframe tbody tr th {\n",
              "        vertical-align: top;\n",
              "    }\n",
              "\n",
              "    .dataframe thead th {\n",
              "        text-align: right;\n",
              "    }\n",
              "</style>\n",
              "<table border=\"1\" class=\"dataframe\">\n",
              "  <thead>\n",
              "    <tr style=\"text-align: right;\">\n",
              "      <th></th>\n",
              "      <th>subreddit</th>\n",
              "      <th>body</th>\n",
              "      <th>subreddit_id</th>\n",
              "    </tr>\n",
              "  </thead>\n",
              "  <tbody>\n",
              "    <tr>\n",
              "      <th>0</th>\n",
              "      <td>gaming</td>\n",
              "      <td>honestly share height rest shorties</td>\n",
              "      <td>4</td>\n",
              "    </tr>\n",
              "    <tr>\n",
              "      <th>1</th>\n",
              "      <td>gaming</td>\n",
              "      <td>im sure whats funnier way interpreted said act...</td>\n",
              "      <td>4</td>\n",
              "    </tr>\n",
              "    <tr>\n",
              "      <th>2</th>\n",
              "      <td>gaming</td>\n",
              "      <td>wait quelaags furysword scaled soft humanity t...</td>\n",
              "      <td>4</td>\n",
              "    </tr>\n",
              "    <tr>\n",
              "      <th>3</th>\n",
              "      <td>gaming</td>\n",
              "      <td>program use make display maps something simila...</td>\n",
              "      <td>4</td>\n",
              "    </tr>\n",
              "    <tr>\n",
              "      <th>4</th>\n",
              "      <td>gaming</td>\n",
              "      <td>ccleaner turned shit norton makes tool uninsta...</td>\n",
              "      <td>4</td>\n",
              "    </tr>\n",
              "  </tbody>\n",
              "</table>\n",
              "</div>"
            ],
            "text/plain": [
              "  subreddit                                               body  subreddit_id\n",
              "0    gaming                honestly share height rest shorties             4\n",
              "1    gaming  im sure whats funnier way interpreted said act...             4\n",
              "2    gaming  wait quelaags furysword scaled soft humanity t...             4\n",
              "3    gaming  program use make display maps something simila...             4\n",
              "4    gaming  ccleaner turned shit norton makes tool uninsta...             4"
            ]
          },
          "metadata": {
            "tags": []
          },
          "execution_count": 17
        }
      ]
    },
    {
      "cell_type": "markdown",
      "metadata": {
        "id": "Jh7Nyvev17CN",
        "colab_type": "text"
      },
      "source": [
        "### Tokenization"
      ]
    },
    {
      "cell_type": "code",
      "metadata": {
        "id": "VSIOUC_TXoBv",
        "colab_type": "code",
        "colab": {}
      },
      "source": [
        "MAX_NB_WORDS = 75000\n",
        "MAX_SEQUENCE_LENGTH = 450\n",
        "EMBEDDING_DIM = 100"
      ],
      "execution_count": 0,
      "outputs": []
    },
    {
      "cell_type": "code",
      "metadata": {
        "id": "X1j9l0-5Xn_I",
        "colab_type": "code",
        "outputId": "b0b6e865-4fb9-4440-8a92-a698917290b6",
        "colab": {
          "base_uri": "https://localhost:8080/",
          "height": 34
        }
      },
      "source": [
        "tokenizer = Tokenizer(num_words=MAX_NB_WORDS,)\n",
        "tokenizer.fit_on_texts(reddit_clear_df['body'].values)\n",
        "word_index = tokenizer.word_index\n",
        "print('Found %s unique tokens.' % len(word_index))"
      ],
      "execution_count": 0,
      "outputs": [
        {
          "output_type": "stream",
          "text": [
            "Found 864049 unique tokens.\n"
          ],
          "name": "stdout"
        }
      ]
    },
    {
      "cell_type": "code",
      "metadata": {
        "id": "DUD5G7l_Xn8E",
        "colab_type": "code",
        "outputId": "566e8067-d9b9-4ae8-c068-70b1b7f9b98c",
        "colab": {
          "base_uri": "https://localhost:8080/",
          "height": 68
        }
      },
      "source": [
        "with open('reddit_tokenizer.pkl', 'wb') as file:\n",
        "    pickle.dump(tokenizer, file)\n",
        "    \n",
        "!gsutil cp reddit_tokenizer.pkl gs://reddit_models/"
      ],
      "execution_count": 0,
      "outputs": [
        {
          "output_type": "stream",
          "text": [
            "Copying file://reddit_tokenizer.pkl [Content-Type=application/octet-stream]...\n",
            "\\\n",
            "Operation completed over 1 objects/47.0 MiB.                                     \n"
          ],
          "name": "stdout"
        }
      ]
    }
  ]
}